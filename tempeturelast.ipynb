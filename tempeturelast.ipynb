{
 "cells": [
  {
   "cell_type": "markdown",
   "id": "686007f7",
   "metadata": {},
   "source": [
    "# TSA-Temperature-Forecast"
   ]
  },
  {
   "cell_type": "markdown",
   "id": "cf89bd30",
   "metadata": {},
   "source": [
    "## 1. Get and clean temperature data from www.ecad.eu."
   ]
  },
  {
   "cell_type": "code",
   "execution_count": 1,
   "id": "579ac8cc",
   "metadata": {},
   "outputs": [],
   "source": [
    "import pandas as pd\n",
    "import numpy as np\n",
    "import matplotlib.pyplot as plt\n",
    "from sklearn.linear_model import LinearRegression\n",
    "plt.rcParams['figure.figsize']=(12,6)\n",
    "from sklearn.model_selection import TimeSeriesSplit, cross_val_score\n",
    "from statsmodels.tsa.ar_model import AutoReg"
   ]
  },
  {
   "cell_type": "code",
   "execution_count": 2,
   "id": "f5a0f678",
   "metadata": {},
   "outputs": [],
   "source": [
    "df=pd.read_csv('./ECA_blended_custom/TG_STAID002759.txt',delimiter=',', skiprows=19,index_col = 1,parse_dates=True)\n"
   ]
  },
  {
   "cell_type": "code",
   "execution_count": 3,
   "id": "7765e78a",
   "metadata": {},
   "outputs": [
    {
     "data": {
      "text/html": [
       "<div>\n",
       "<style scoped>\n",
       "    .dataframe tbody tr th:only-of-type {\n",
       "        vertical-align: middle;\n",
       "    }\n",
       "\n",
       "    .dataframe tbody tr th {\n",
       "        vertical-align: top;\n",
       "    }\n",
       "\n",
       "    .dataframe thead th {\n",
       "        text-align: right;\n",
       "    }\n",
       "</style>\n",
       "<table border=\"1\" class=\"dataframe\">\n",
       "  <thead>\n",
       "    <tr style=\"text-align: right;\">\n",
       "      <th></th>\n",
       "      <th>SOUID</th>\n",
       "      <th>TG</th>\n",
       "      <th>Q_TG</th>\n",
       "    </tr>\n",
       "    <tr>\n",
       "      <th>DATE</th>\n",
       "      <th></th>\n",
       "      <th></th>\n",
       "      <th></th>\n",
       "    </tr>\n",
       "  </thead>\n",
       "  <tbody>\n",
       "    <tr>\n",
       "      <th>1876-01-01</th>\n",
       "      <td>127488</td>\n",
       "      <td>22</td>\n",
       "      <td>0</td>\n",
       "    </tr>\n",
       "    <tr>\n",
       "      <th>1876-01-02</th>\n",
       "      <td>127488</td>\n",
       "      <td>25</td>\n",
       "      <td>0</td>\n",
       "    </tr>\n",
       "    <tr>\n",
       "      <th>1876-01-03</th>\n",
       "      <td>127488</td>\n",
       "      <td>3</td>\n",
       "      <td>0</td>\n",
       "    </tr>\n",
       "    <tr>\n",
       "      <th>1876-01-04</th>\n",
       "      <td>127488</td>\n",
       "      <td>-58</td>\n",
       "      <td>0</td>\n",
       "    </tr>\n",
       "    <tr>\n",
       "      <th>1876-01-05</th>\n",
       "      <td>127488</td>\n",
       "      <td>-98</td>\n",
       "      <td>0</td>\n",
       "    </tr>\n",
       "    <tr>\n",
       "      <th>...</th>\n",
       "      <td>...</td>\n",
       "      <td>...</td>\n",
       "      <td>...</td>\n",
       "    </tr>\n",
       "    <tr>\n",
       "      <th>2021-05-27</th>\n",
       "      <td>111448</td>\n",
       "      <td>118</td>\n",
       "      <td>0</td>\n",
       "    </tr>\n",
       "    <tr>\n",
       "      <th>2021-05-28</th>\n",
       "      <td>111448</td>\n",
       "      <td>116</td>\n",
       "      <td>0</td>\n",
       "    </tr>\n",
       "    <tr>\n",
       "      <th>2021-05-29</th>\n",
       "      <td>111448</td>\n",
       "      <td>125</td>\n",
       "      <td>0</td>\n",
       "    </tr>\n",
       "    <tr>\n",
       "      <th>2021-05-30</th>\n",
       "      <td>111448</td>\n",
       "      <td>139</td>\n",
       "      <td>0</td>\n",
       "    </tr>\n",
       "    <tr>\n",
       "      <th>2021-05-31</th>\n",
       "      <td>111448</td>\n",
       "      <td>147</td>\n",
       "      <td>0</td>\n",
       "    </tr>\n",
       "  </tbody>\n",
       "</table>\n",
       "<p>53112 rows × 3 columns</p>\n",
       "</div>"
      ],
      "text/plain": [
       "             SOUID     TG   Q_TG\n",
       "    DATE                        \n",
       "1876-01-01  127488     22      0\n",
       "1876-01-02  127488     25      0\n",
       "1876-01-03  127488      3      0\n",
       "1876-01-04  127488    -58      0\n",
       "1876-01-05  127488    -98      0\n",
       "...            ...    ...    ...\n",
       "2021-05-27  111448    118      0\n",
       "2021-05-28  111448    116      0\n",
       "2021-05-29  111448    125      0\n",
       "2021-05-30  111448    139      0\n",
       "2021-05-31  111448    147      0\n",
       "\n",
       "[53112 rows x 3 columns]"
      ]
     },
     "execution_count": 3,
     "metadata": {},
     "output_type": "execute_result"
    }
   ],
   "source": [
    "df\n"
   ]
  },
  {
   "cell_type": "code",
   "execution_count": 4,
   "id": "b750269a",
   "metadata": {
    "scrolled": true
   },
   "outputs": [],
   "source": [
    "df.reset_index(inplace=True)"
   ]
  },
  {
   "cell_type": "code",
   "execution_count": 5,
   "id": "f62bba10",
   "metadata": {},
   "outputs": [
    {
     "data": {
      "text/plain": [
       "Index(['    DATE', ' SOUID', '   TG', ' Q_TG'], dtype='object')"
      ]
     },
     "execution_count": 5,
     "metadata": {},
     "output_type": "execute_result"
    }
   ],
   "source": [
    "df.columns"
   ]
  },
  {
   "cell_type": "code",
   "execution_count": 6,
   "id": "10b0cfb9",
   "metadata": {},
   "outputs": [],
   "source": [
    "#rename the columns\n",
    "df = df.rename({'   TG': 'TG', '    DATE': 'DATE'}, axis=1)"
   ]
  },
  {
   "cell_type": "code",
   "execution_count": 7,
   "id": "6738e284",
   "metadata": {},
   "outputs": [
    {
     "name": "stderr",
     "output_type": "stream",
     "text": [
      "<ipython-input-7-41b537688110>:8: MatplotlibDeprecationWarning: The 's' parameter of annotate() has been renamed 'text' since Matplotlib 3.3; support for the old name will be dropped two minor releases later.\n",
      "  plt.annotate(s='year 1945',xy=(25296,-10000),xytext=(30301,-8000),weight='bold',color='aqua',\\\n"
     ]
    },
    {
     "data": {
      "text/plain": [
       "Text(30301, -8000, 'year 1945')"
      ]
     },
     "execution_count": 7,
     "metadata": {},
     "output_type": "execute_result"
    },
    {
     "data": {
      "image/png": "[encoded data removed]",
      "text/plain": [
       "<Figure size 864x432 with 1 Axes>"
      ]
     },
     "metadata": {
      "needs_background": "light"
     },
     "output_type": "display_data"
    }
   ],
   "source": [
    "#plot the data\n",
    "x=df.index\n",
    "y=df['TG']\n",
    "\n",
    "plt.title('1876-2021 daily temperature in Berlin Tempelhof', fontsize = 25,color='blue')\n",
    "\n",
    "plt.plot(x,y,linestyle='-',color='orange')\n",
    "plt.annotate(s='year 1945',xy=(25296,-10000),xytext=(30301,-8000),weight='bold',color='aqua',\\\n",
    "             arrowprops=dict(arrowstyle='-|>',connectionstyle='arc3,rad = .2',color='blue'),\\\n",
    "            bbox=dict(boxstyle='round,pad=0.5', fc='blue', ec='k',lw=1 ,alpha=0.4))\n",
    "\n"
   ]
  },
  {
   "cell_type": "code",
   "execution_count": 8,
   "id": "891469b2",
   "metadata": {},
   "outputs": [],
   "source": [
    "\n",
    "#cols=[x for x in enumerate(df[' Q_TG']) if df[' Q_TG'] !=0]\n",
    "\n",
    "df_b = df.drop(df[df[' Q_TG']!=0].index)\n",
    "\n",
    "# df_c = df.drop(df[<some boolean condition>].index)\n",
    "\n",
    "#df_c=df.drop(df[' Q_TG']=[df[' Q_TG'] !=0].index)\n",
    "#df_clear = df.drop(df[(df['x']<0.01) | (df['x']>10)].index)"
   ]
  },
  {
   "cell_type": "code",
   "execution_count": 109,
   "id": "7da9d89d",
   "metadata": {},
   "outputs": [
    {
     "data": {
      "text/plain": [
       "52916"
      ]
     },
     "execution_count": 109,
     "metadata": {},
     "output_type": "execute_result"
    }
   ],
   "source": [
    "len(df_b)"
   ]
  },
  {
   "cell_type": "code",
   "execution_count": 110,
   "id": "4aa14a53",
   "metadata": {},
   "outputs": [],
   "source": [
    "#delete the year 1945 data, because several months' data  missed.\n",
    "df_c = df[~((df['DATE'] >= '1945-01-01') & (df['DATE'] <= '1946-12-31'))]"
   ]
  },
  {
   "cell_type": "code",
   "execution_count": 11,
   "id": "22eba7dd",
   "metadata": {},
   "outputs": [],
   "source": [
    "#df = df[~((df['DATE'] >= '1876-01-01') & (df['DATE'] <= '1876-01-03'))]"
   ]
  },
  {
   "cell_type": "code",
   "execution_count": 200,
   "id": "c3c26587",
   "metadata": {},
   "outputs": [
    {
     "data": {
      "text/plain": [
       "Text(0.5, 1.0, '1876-2021 daily temperature in Berlin Tempelhof')"
      ]
     },
     "execution_count": 200,
     "metadata": {},
     "output_type": "execute_result"
    },
    {
     "data": {
      "image/png": "[encoded data removed]",
      "text/plain": [
       "<Figure size 864x432 with 1 Axes>"
      ]
     },
     "metadata": {
      "needs_background": "light"
     },
     "output_type": "display_data"
    }
   ],
   "source": [
    "\n",
    "X=df_c['DATE']\n",
    "y=df_c['TG']\n",
    "plt.plot(X,y)\n",
    "plt.xlabel('Date')\n",
    "plt.ylabel('Temperature ℃*10')\n",
    "plt.title('1876-2021 daily temperature in Berlin Tempelhof', fontsize = 20,color='blue')"
   ]
  },
  {
   "cell_type": "code",
   "execution_count": null,
   "id": "028cb2a0",
   "metadata": {},
   "outputs": [],
   "source": []
  },
  {
   "cell_type": "code",
   "execution_count": 112,
   "id": "b1a30b71",
   "metadata": {},
   "outputs": [
    {
     "name": "stderr",
     "output_type": "stream",
     "text": [
      "<ipython-input-112-ba34e502eff7>:1: SettingWithCopyWarning: \n",
      "A value is trying to be set on a copy of a slice from a DataFrame.\n",
      "Try using .loc[row_indexer,col_indexer] = value instead\n",
      "\n",
      "See the caveats in the documentation: https://pandas.pydata.org/pandas-docs/stable/user_guide/indexing.html#returning-a-view-versus-a-copy\n",
      "  df_c['time_step']=range(len(df_c))\n"
     ]
    }
   ],
   "source": [
    "df_c['time_step']=range(len(df_c))"
   ]
  },
  {
   "cell_type": "code",
   "execution_count": 113,
   "id": "955b3431",
   "metadata": {},
   "outputs": [],
   "source": [
    "# drop the useless columns\n",
    "df_c.columns\n",
    "dfc=df_c.drop(columns=[' SOUID',' Q_TG'],index=1)"
   ]
  },
  {
   "cell_type": "code",
   "execution_count": 114,
   "id": "c82b59fd",
   "metadata": {},
   "outputs": [
    {
     "data": {
      "text/html": [
       "<div>\n",
       "<style scoped>\n",
       "    .dataframe tbody tr th:only-of-type {\n",
       "        vertical-align: middle;\n",
       "    }\n",
       "\n",
       "    .dataframe tbody tr th {\n",
       "        vertical-align: top;\n",
       "    }\n",
       "\n",
       "    .dataframe thead th {\n",
       "        text-align: right;\n",
       "    }\n",
       "</style>\n",
       "<table border=\"1\" class=\"dataframe\">\n",
       "  <thead>\n",
       "    <tr style=\"text-align: right;\">\n",
       "      <th></th>\n",
       "      <th>DATE</th>\n",
       "      <th>TG</th>\n",
       "      <th>time_step</th>\n",
       "    </tr>\n",
       "  </thead>\n",
       "  <tbody>\n",
       "    <tr>\n",
       "      <th>0</th>\n",
       "      <td>1876-01-01</td>\n",
       "      <td>22</td>\n",
       "      <td>0</td>\n",
       "    </tr>\n",
       "    <tr>\n",
       "      <th>2</th>\n",
       "      <td>1876-01-03</td>\n",
       "      <td>3</td>\n",
       "      <td>2</td>\n",
       "    </tr>\n",
       "    <tr>\n",
       "      <th>3</th>\n",
       "      <td>1876-01-04</td>\n",
       "      <td>-58</td>\n",
       "      <td>3</td>\n",
       "    </tr>\n",
       "    <tr>\n",
       "      <th>4</th>\n",
       "      <td>1876-01-05</td>\n",
       "      <td>-98</td>\n",
       "      <td>4</td>\n",
       "    </tr>\n",
       "    <tr>\n",
       "      <th>5</th>\n",
       "      <td>1876-01-06</td>\n",
       "      <td>-77</td>\n",
       "      <td>5</td>\n",
       "    </tr>\n",
       "    <tr>\n",
       "      <th>...</th>\n",
       "      <td>...</td>\n",
       "      <td>...</td>\n",
       "      <td>...</td>\n",
       "    </tr>\n",
       "    <tr>\n",
       "      <th>53107</th>\n",
       "      <td>2021-05-27</td>\n",
       "      <td>118</td>\n",
       "      <td>52377</td>\n",
       "    </tr>\n",
       "    <tr>\n",
       "      <th>53108</th>\n",
       "      <td>2021-05-28</td>\n",
       "      <td>116</td>\n",
       "      <td>52378</td>\n",
       "    </tr>\n",
       "    <tr>\n",
       "      <th>53109</th>\n",
       "      <td>2021-05-29</td>\n",
       "      <td>125</td>\n",
       "      <td>52379</td>\n",
       "    </tr>\n",
       "    <tr>\n",
       "      <th>53110</th>\n",
       "      <td>2021-05-30</td>\n",
       "      <td>139</td>\n",
       "      <td>52380</td>\n",
       "    </tr>\n",
       "    <tr>\n",
       "      <th>53111</th>\n",
       "      <td>2021-05-31</td>\n",
       "      <td>147</td>\n",
       "      <td>52381</td>\n",
       "    </tr>\n",
       "  </tbody>\n",
       "</table>\n",
       "<p>52381 rows × 3 columns</p>\n",
       "</div>"
      ],
      "text/plain": [
       "            DATE   TG  time_step\n",
       "0     1876-01-01   22          0\n",
       "2     1876-01-03    3          2\n",
       "3     1876-01-04  -58          3\n",
       "4     1876-01-05  -98          4\n",
       "5     1876-01-06  -77          5\n",
       "...          ...  ...        ...\n",
       "53107 2021-05-27  118      52377\n",
       "53108 2021-05-28  116      52378\n",
       "53109 2021-05-29  125      52379\n",
       "53110 2021-05-30  139      52380\n",
       "53111 2021-05-31  147      52381\n",
       "\n",
       "[52381 rows x 3 columns]"
      ]
     },
     "execution_count": 114,
     "metadata": {},
     "output_type": "execute_result"
    }
   ],
   "source": [
    "dfc\n",
    "\n"
   ]
  },
  {
   "cell_type": "code",
   "execution_count": 16,
   "id": "d0b52f7b",
   "metadata": {},
   "outputs": [
    {
     "data": {
      "text/plain": [
       "DATE         datetime64[ns]\n",
       "TG                    int64\n",
       "time_step             int64\n",
       "dtype: object"
      ]
     },
     "execution_count": 16,
     "metadata": {},
     "output_type": "execute_result"
    }
   ],
   "source": [
    "dfc.dtypes"
   ]
  },
  {
   "cell_type": "code",
   "execution_count": 115,
   "id": "9026e4e0",
   "metadata": {},
   "outputs": [],
   "source": [
    "dfc.set_index(['DATE'],inplace=True)"
   ]
  },
  {
   "cell_type": "code",
   "execution_count": 116,
   "id": "554043d0",
   "metadata": {},
   "outputs": [
    {
     "data": {
      "text/html": [
       "<div>\n",
       "<style scoped>\n",
       "    .dataframe tbody tr th:only-of-type {\n",
       "        vertical-align: middle;\n",
       "    }\n",
       "\n",
       "    .dataframe tbody tr th {\n",
       "        vertical-align: top;\n",
       "    }\n",
       "\n",
       "    .dataframe thead th {\n",
       "        text-align: right;\n",
       "    }\n",
       "</style>\n",
       "<table border=\"1\" class=\"dataframe\">\n",
       "  <thead>\n",
       "    <tr style=\"text-align: right;\">\n",
       "      <th></th>\n",
       "      <th>TG</th>\n",
       "      <th>time_step</th>\n",
       "    </tr>\n",
       "    <tr>\n",
       "      <th>DATE</th>\n",
       "      <th></th>\n",
       "      <th></th>\n",
       "    </tr>\n",
       "  </thead>\n",
       "  <tbody>\n",
       "    <tr>\n",
       "      <th>1876-01-01</th>\n",
       "      <td>22</td>\n",
       "      <td>0</td>\n",
       "    </tr>\n",
       "    <tr>\n",
       "      <th>1876-01-03</th>\n",
       "      <td>3</td>\n",
       "      <td>2</td>\n",
       "    </tr>\n",
       "    <tr>\n",
       "      <th>1876-01-04</th>\n",
       "      <td>-58</td>\n",
       "      <td>3</td>\n",
       "    </tr>\n",
       "    <tr>\n",
       "      <th>1876-01-05</th>\n",
       "      <td>-98</td>\n",
       "      <td>4</td>\n",
       "    </tr>\n",
       "    <tr>\n",
       "      <th>1876-01-06</th>\n",
       "      <td>-77</td>\n",
       "      <td>5</td>\n",
       "    </tr>\n",
       "    <tr>\n",
       "      <th>...</th>\n",
       "      <td>...</td>\n",
       "      <td>...</td>\n",
       "    </tr>\n",
       "    <tr>\n",
       "      <th>2021-05-27</th>\n",
       "      <td>118</td>\n",
       "      <td>52377</td>\n",
       "    </tr>\n",
       "    <tr>\n",
       "      <th>2021-05-28</th>\n",
       "      <td>116</td>\n",
       "      <td>52378</td>\n",
       "    </tr>\n",
       "    <tr>\n",
       "      <th>2021-05-29</th>\n",
       "      <td>125</td>\n",
       "      <td>52379</td>\n",
       "    </tr>\n",
       "    <tr>\n",
       "      <th>2021-05-30</th>\n",
       "      <td>139</td>\n",
       "      <td>52380</td>\n",
       "    </tr>\n",
       "    <tr>\n",
       "      <th>2021-05-31</th>\n",
       "      <td>147</td>\n",
       "      <td>52381</td>\n",
       "    </tr>\n",
       "  </tbody>\n",
       "</table>\n",
       "<p>52381 rows × 2 columns</p>\n",
       "</div>"
      ],
      "text/plain": [
       "             TG  time_step\n",
       "DATE                      \n",
       "1876-01-01   22          0\n",
       "1876-01-03    3          2\n",
       "1876-01-04  -58          3\n",
       "1876-01-05  -98          4\n",
       "1876-01-06  -77          5\n",
       "...         ...        ...\n",
       "2021-05-27  118      52377\n",
       "2021-05-28  116      52378\n",
       "2021-05-29  125      52379\n",
       "2021-05-30  139      52380\n",
       "2021-05-31  147      52381\n",
       "\n",
       "[52381 rows x 2 columns]"
      ]
     },
     "execution_count": 116,
     "metadata": {},
     "output_type": "execute_result"
    }
   ],
   "source": [
    "dfc"
   ]
  },
  {
   "cell_type": "code",
   "execution_count": null,
   "id": "9e573394",
   "metadata": {},
   "outputs": [],
   "source": []
  },
  {
   "cell_type": "markdown",
   "id": "69100ed1",
   "metadata": {},
   "source": [
    "## 2. Build a baseline model to model the trend and seasonality."
   ]
  },
  {
   "cell_type": "code",
   "execution_count": 117,
   "id": "2572e0d5",
   "metadata": {},
   "outputs": [],
   "source": [
    "#Add season dummies feature by using month value\n",
    "\n",
    "season_dummies=pd.get_dummies(dfc.index.month, prefix='month',drop_first=False).set_index(dfc.index)\n"
   ]
  },
  {
   "cell_type": "code",
   "execution_count": 20,
   "id": "a0848299",
   "metadata": {},
   "outputs": [
    {
     "data": {
      "text/html": [
       "<div>\n",
       "<style scoped>\n",
       "    .dataframe tbody tr th:only-of-type {\n",
       "        vertical-align: middle;\n",
       "    }\n",
       "\n",
       "    .dataframe tbody tr th {\n",
       "        vertical-align: top;\n",
       "    }\n",
       "\n",
       "    .dataframe thead th {\n",
       "        text-align: right;\n",
       "    }\n",
       "</style>\n",
       "<table border=\"1\" class=\"dataframe\">\n",
       "  <thead>\n",
       "    <tr style=\"text-align: right;\">\n",
       "      <th></th>\n",
       "      <th>month_1</th>\n",
       "      <th>month_2</th>\n",
       "      <th>month_3</th>\n",
       "      <th>month_4</th>\n",
       "      <th>month_5</th>\n",
       "      <th>month_6</th>\n",
       "      <th>month_7</th>\n",
       "      <th>month_8</th>\n",
       "      <th>month_9</th>\n",
       "      <th>month_10</th>\n",
       "      <th>month_11</th>\n",
       "      <th>month_12</th>\n",
       "    </tr>\n",
       "    <tr>\n",
       "      <th>DATE</th>\n",
       "      <th></th>\n",
       "      <th></th>\n",
       "      <th></th>\n",
       "      <th></th>\n",
       "      <th></th>\n",
       "      <th></th>\n",
       "      <th></th>\n",
       "      <th></th>\n",
       "      <th></th>\n",
       "      <th></th>\n",
       "      <th></th>\n",
       "      <th></th>\n",
       "    </tr>\n",
       "  </thead>\n",
       "  <tbody>\n",
       "    <tr>\n",
       "      <th>1876-01-01</th>\n",
       "      <td>1</td>\n",
       "      <td>0</td>\n",
       "      <td>0</td>\n",
       "      <td>0</td>\n",
       "      <td>0</td>\n",
       "      <td>0</td>\n",
       "      <td>0</td>\n",
       "      <td>0</td>\n",
       "      <td>0</td>\n",
       "      <td>0</td>\n",
       "      <td>0</td>\n",
       "      <td>0</td>\n",
       "    </tr>\n",
       "    <tr>\n",
       "      <th>1876-01-03</th>\n",
       "      <td>1</td>\n",
       "      <td>0</td>\n",
       "      <td>0</td>\n",
       "      <td>0</td>\n",
       "      <td>0</td>\n",
       "      <td>0</td>\n",
       "      <td>0</td>\n",
       "      <td>0</td>\n",
       "      <td>0</td>\n",
       "      <td>0</td>\n",
       "      <td>0</td>\n",
       "      <td>0</td>\n",
       "    </tr>\n",
       "    <tr>\n",
       "      <th>1876-01-04</th>\n",
       "      <td>1</td>\n",
       "      <td>0</td>\n",
       "      <td>0</td>\n",
       "      <td>0</td>\n",
       "      <td>0</td>\n",
       "      <td>0</td>\n",
       "      <td>0</td>\n",
       "      <td>0</td>\n",
       "      <td>0</td>\n",
       "      <td>0</td>\n",
       "      <td>0</td>\n",
       "      <td>0</td>\n",
       "    </tr>\n",
       "    <tr>\n",
       "      <th>1876-01-05</th>\n",
       "      <td>1</td>\n",
       "      <td>0</td>\n",
       "      <td>0</td>\n",
       "      <td>0</td>\n",
       "      <td>0</td>\n",
       "      <td>0</td>\n",
       "      <td>0</td>\n",
       "      <td>0</td>\n",
       "      <td>0</td>\n",
       "      <td>0</td>\n",
       "      <td>0</td>\n",
       "      <td>0</td>\n",
       "    </tr>\n",
       "    <tr>\n",
       "      <th>1876-01-06</th>\n",
       "      <td>1</td>\n",
       "      <td>0</td>\n",
       "      <td>0</td>\n",
       "      <td>0</td>\n",
       "      <td>0</td>\n",
       "      <td>0</td>\n",
       "      <td>0</td>\n",
       "      <td>0</td>\n",
       "      <td>0</td>\n",
       "      <td>0</td>\n",
       "      <td>0</td>\n",
       "      <td>0</td>\n",
       "    </tr>\n",
       "    <tr>\n",
       "      <th>...</th>\n",
       "      <td>...</td>\n",
       "      <td>...</td>\n",
       "      <td>...</td>\n",
       "      <td>...</td>\n",
       "      <td>...</td>\n",
       "      <td>...</td>\n",
       "      <td>...</td>\n",
       "      <td>...</td>\n",
       "      <td>...</td>\n",
       "      <td>...</td>\n",
       "      <td>...</td>\n",
       "      <td>...</td>\n",
       "    </tr>\n",
       "    <tr>\n",
       "      <th>2021-05-27</th>\n",
       "      <td>0</td>\n",
       "      <td>0</td>\n",
       "      <td>0</td>\n",
       "      <td>0</td>\n",
       "      <td>1</td>\n",
       "      <td>0</td>\n",
       "      <td>0</td>\n",
       "      <td>0</td>\n",
       "      <td>0</td>\n",
       "      <td>0</td>\n",
       "      <td>0</td>\n",
       "      <td>0</td>\n",
       "    </tr>\n",
       "    <tr>\n",
       "      <th>2021-05-28</th>\n",
       "      <td>0</td>\n",
       "      <td>0</td>\n",
       "      <td>0</td>\n",
       "      <td>0</td>\n",
       "      <td>1</td>\n",
       "      <td>0</td>\n",
       "      <td>0</td>\n",
       "      <td>0</td>\n",
       "      <td>0</td>\n",
       "      <td>0</td>\n",
       "      <td>0</td>\n",
       "      <td>0</td>\n",
       "    </tr>\n",
       "    <tr>\n",
       "      <th>2021-05-29</th>\n",
       "      <td>0</td>\n",
       "      <td>0</td>\n",
       "      <td>0</td>\n",
       "      <td>0</td>\n",
       "      <td>1</td>\n",
       "      <td>0</td>\n",
       "      <td>0</td>\n",
       "      <td>0</td>\n",
       "      <td>0</td>\n",
       "      <td>0</td>\n",
       "      <td>0</td>\n",
       "      <td>0</td>\n",
       "    </tr>\n",
       "    <tr>\n",
       "      <th>2021-05-30</th>\n",
       "      <td>0</td>\n",
       "      <td>0</td>\n",
       "      <td>0</td>\n",
       "      <td>0</td>\n",
       "      <td>1</td>\n",
       "      <td>0</td>\n",
       "      <td>0</td>\n",
       "      <td>0</td>\n",
       "      <td>0</td>\n",
       "      <td>0</td>\n",
       "      <td>0</td>\n",
       "      <td>0</td>\n",
       "    </tr>\n",
       "    <tr>\n",
       "      <th>2021-05-31</th>\n",
       "      <td>0</td>\n",
       "      <td>0</td>\n",
       "      <td>0</td>\n",
       "      <td>0</td>\n",
       "      <td>1</td>\n",
       "      <td>0</td>\n",
       "      <td>0</td>\n",
       "      <td>0</td>\n",
       "      <td>0</td>\n",
       "      <td>0</td>\n",
       "      <td>0</td>\n",
       "      <td>0</td>\n",
       "    </tr>\n",
       "  </tbody>\n",
       "</table>\n",
       "<p>52381 rows × 12 columns</p>\n",
       "</div>"
      ],
      "text/plain": [
       "            month_1  month_2  month_3  month_4  month_5  month_6  month_7  \\\n",
       "DATE                                                                        \n",
       "1876-01-01        1        0        0        0        0        0        0   \n",
       "1876-01-03        1        0        0        0        0        0        0   \n",
       "1876-01-04        1        0        0        0        0        0        0   \n",
       "1876-01-05        1        0        0        0        0        0        0   \n",
       "1876-01-06        1        0        0        0        0        0        0   \n",
       "...             ...      ...      ...      ...      ...      ...      ...   \n",
       "2021-05-27        0        0        0        0        1        0        0   \n",
       "2021-05-28        0        0        0        0        1        0        0   \n",
       "2021-05-29        0        0        0        0        1        0        0   \n",
       "2021-05-30        0        0        0        0        1        0        0   \n",
       "2021-05-31        0        0        0        0        1        0        0   \n",
       "\n",
       "            month_8  month_9  month_10  month_11  month_12  \n",
       "DATE                                                        \n",
       "1876-01-01        0        0         0         0         0  \n",
       "1876-01-03        0        0         0         0         0  \n",
       "1876-01-04        0        0         0         0         0  \n",
       "1876-01-05        0        0         0         0         0  \n",
       "1876-01-06        0        0         0         0         0  \n",
       "...             ...      ...       ...       ...       ...  \n",
       "2021-05-27        0        0         0         0         0  \n",
       "2021-05-28        0        0         0         0         0  \n",
       "2021-05-29        0        0         0         0         0  \n",
       "2021-05-30        0        0         0         0         0  \n",
       "2021-05-31        0        0         0         0         0  \n",
       "\n",
       "[52381 rows x 12 columns]"
      ]
     },
     "execution_count": 20,
     "metadata": {},
     "output_type": "execute_result"
    }
   ],
   "source": [
    "season_dummies"
   ]
  },
  {
   "cell_type": "code",
   "execution_count": 21,
   "id": "e5dd28f3",
   "metadata": {},
   "outputs": [
    {
     "data": {
      "text/plain": [
       "DatetimeIndex(['1876-01-01', '1876-01-03', '1876-01-04', '1876-01-05',\n",
       "               '1876-01-06', '1876-01-07', '1876-01-08', '1876-01-09',\n",
       "               '1876-01-10', '1876-01-11',\n",
       "               ...\n",
       "               '2021-05-22', '2021-05-23', '2021-05-24', '2021-05-25',\n",
       "               '2021-05-26', '2021-05-27', '2021-05-28', '2021-05-29',\n",
       "               '2021-05-30', '2021-05-31'],\n",
       "              dtype='datetime64[ns]', name='DATE', length=52381, freq=None)"
      ]
     },
     "execution_count": 21,
     "metadata": {},
     "output_type": "execute_result"
    }
   ],
   "source": [
    "season_dummies.index"
   ]
  },
  {
   "cell_type": "code",
   "execution_count": 118,
   "id": "2ead66a5",
   "metadata": {},
   "outputs": [],
   "source": [
    "dfcc=dfc.join(season_dummies)"
   ]
  },
  {
   "cell_type": "code",
   "execution_count": 23,
   "id": "2844700f",
   "metadata": {},
   "outputs": [
    {
     "data": {
      "text/html": [
       "<div>\n",
       "<style scoped>\n",
       "    .dataframe tbody tr th:only-of-type {\n",
       "        vertical-align: middle;\n",
       "    }\n",
       "\n",
       "    .dataframe tbody tr th {\n",
       "        vertical-align: top;\n",
       "    }\n",
       "\n",
       "    .dataframe thead th {\n",
       "        text-align: right;\n",
       "    }\n",
       "</style>\n",
       "<table border=\"1\" class=\"dataframe\">\n",
       "  <thead>\n",
       "    <tr style=\"text-align: right;\">\n",
       "      <th></th>\n",
       "      <th>TG</th>\n",
       "      <th>time_step</th>\n",
       "      <th>month_1</th>\n",
       "      <th>month_2</th>\n",
       "      <th>month_3</th>\n",
       "      <th>month_4</th>\n",
       "      <th>month_5</th>\n",
       "      <th>month_6</th>\n",
       "      <th>month_7</th>\n",
       "      <th>month_8</th>\n",
       "      <th>month_9</th>\n",
       "      <th>month_10</th>\n",
       "      <th>month_11</th>\n",
       "      <th>month_12</th>\n",
       "    </tr>\n",
       "    <tr>\n",
       "      <th>DATE</th>\n",
       "      <th></th>\n",
       "      <th></th>\n",
       "      <th></th>\n",
       "      <th></th>\n",
       "      <th></th>\n",
       "      <th></th>\n",
       "      <th></th>\n",
       "      <th></th>\n",
       "      <th></th>\n",
       "      <th></th>\n",
       "      <th></th>\n",
       "      <th></th>\n",
       "      <th></th>\n",
       "      <th></th>\n",
       "    </tr>\n",
       "  </thead>\n",
       "  <tbody>\n",
       "    <tr>\n",
       "      <th>1876-01-01</th>\n",
       "      <td>22</td>\n",
       "      <td>0</td>\n",
       "      <td>1</td>\n",
       "      <td>0</td>\n",
       "      <td>0</td>\n",
       "      <td>0</td>\n",
       "      <td>0</td>\n",
       "      <td>0</td>\n",
       "      <td>0</td>\n",
       "      <td>0</td>\n",
       "      <td>0</td>\n",
       "      <td>0</td>\n",
       "      <td>0</td>\n",
       "      <td>0</td>\n",
       "    </tr>\n",
       "    <tr>\n",
       "      <th>1876-01-03</th>\n",
       "      <td>3</td>\n",
       "      <td>2</td>\n",
       "      <td>1</td>\n",
       "      <td>0</td>\n",
       "      <td>0</td>\n",
       "      <td>0</td>\n",
       "      <td>0</td>\n",
       "      <td>0</td>\n",
       "      <td>0</td>\n",
       "      <td>0</td>\n",
       "      <td>0</td>\n",
       "      <td>0</td>\n",
       "      <td>0</td>\n",
       "      <td>0</td>\n",
       "    </tr>\n",
       "    <tr>\n",
       "      <th>1876-01-04</th>\n",
       "      <td>-58</td>\n",
       "      <td>3</td>\n",
       "      <td>1</td>\n",
       "      <td>0</td>\n",
       "      <td>0</td>\n",
       "      <td>0</td>\n",
       "      <td>0</td>\n",
       "      <td>0</td>\n",
       "      <td>0</td>\n",
       "      <td>0</td>\n",
       "      <td>0</td>\n",
       "      <td>0</td>\n",
       "      <td>0</td>\n",
       "      <td>0</td>\n",
       "    </tr>\n",
       "    <tr>\n",
       "      <th>1876-01-05</th>\n",
       "      <td>-98</td>\n",
       "      <td>4</td>\n",
       "      <td>1</td>\n",
       "      <td>0</td>\n",
       "      <td>0</td>\n",
       "      <td>0</td>\n",
       "      <td>0</td>\n",
       "      <td>0</td>\n",
       "      <td>0</td>\n",
       "      <td>0</td>\n",
       "      <td>0</td>\n",
       "      <td>0</td>\n",
       "      <td>0</td>\n",
       "      <td>0</td>\n",
       "    </tr>\n",
       "    <tr>\n",
       "      <th>1876-01-06</th>\n",
       "      <td>-77</td>\n",
       "      <td>5</td>\n",
       "      <td>1</td>\n",
       "      <td>0</td>\n",
       "      <td>0</td>\n",
       "      <td>0</td>\n",
       "      <td>0</td>\n",
       "      <td>0</td>\n",
       "      <td>0</td>\n",
       "      <td>0</td>\n",
       "      <td>0</td>\n",
       "      <td>0</td>\n",
       "      <td>0</td>\n",
       "      <td>0</td>\n",
       "    </tr>\n",
       "    <tr>\n",
       "      <th>...</th>\n",
       "      <td>...</td>\n",
       "      <td>...</td>\n",
       "      <td>...</td>\n",
       "      <td>...</td>\n",
       "      <td>...</td>\n",
       "      <td>...</td>\n",
       "      <td>...</td>\n",
       "      <td>...</td>\n",
       "      <td>...</td>\n",
       "      <td>...</td>\n",
       "      <td>...</td>\n",
       "      <td>...</td>\n",
       "      <td>...</td>\n",
       "      <td>...</td>\n",
       "    </tr>\n",
       "    <tr>\n",
       "      <th>2021-05-27</th>\n",
       "      <td>118</td>\n",
       "      <td>52377</td>\n",
       "      <td>0</td>\n",
       "      <td>0</td>\n",
       "      <td>0</td>\n",
       "      <td>0</td>\n",
       "      <td>1</td>\n",
       "      <td>0</td>\n",
       "      <td>0</td>\n",
       "      <td>0</td>\n",
       "      <td>0</td>\n",
       "      <td>0</td>\n",
       "      <td>0</td>\n",
       "      <td>0</td>\n",
       "    </tr>\n",
       "    <tr>\n",
       "      <th>2021-05-28</th>\n",
       "      <td>116</td>\n",
       "      <td>52378</td>\n",
       "      <td>0</td>\n",
       "      <td>0</td>\n",
       "      <td>0</td>\n",
       "      <td>0</td>\n",
       "      <td>1</td>\n",
       "      <td>0</td>\n",
       "      <td>0</td>\n",
       "      <td>0</td>\n",
       "      <td>0</td>\n",
       "      <td>0</td>\n",
       "      <td>0</td>\n",
       "      <td>0</td>\n",
       "    </tr>\n",
       "    <tr>\n",
       "      <th>2021-05-29</th>\n",
       "      <td>125</td>\n",
       "      <td>52379</td>\n",
       "      <td>0</td>\n",
       "      <td>0</td>\n",
       "      <td>0</td>\n",
       "      <td>0</td>\n",
       "      <td>1</td>\n",
       "      <td>0</td>\n",
       "      <td>0</td>\n",
       "      <td>0</td>\n",
       "      <td>0</td>\n",
       "      <td>0</td>\n",
       "      <td>0</td>\n",
       "      <td>0</td>\n",
       "    </tr>\n",
       "    <tr>\n",
       "      <th>2021-05-30</th>\n",
       "      <td>139</td>\n",
       "      <td>52380</td>\n",
       "      <td>0</td>\n",
       "      <td>0</td>\n",
       "      <td>0</td>\n",
       "      <td>0</td>\n",
       "      <td>1</td>\n",
       "      <td>0</td>\n",
       "      <td>0</td>\n",
       "      <td>0</td>\n",
       "      <td>0</td>\n",
       "      <td>0</td>\n",
       "      <td>0</td>\n",
       "      <td>0</td>\n",
       "    </tr>\n",
       "    <tr>\n",
       "      <th>2021-05-31</th>\n",
       "      <td>147</td>\n",
       "      <td>52381</td>\n",
       "      <td>0</td>\n",
       "      <td>0</td>\n",
       "      <td>0</td>\n",
       "      <td>0</td>\n",
       "      <td>1</td>\n",
       "      <td>0</td>\n",
       "      <td>0</td>\n",
       "      <td>0</td>\n",
       "      <td>0</td>\n",
       "      <td>0</td>\n",
       "      <td>0</td>\n",
       "      <td>0</td>\n",
       "    </tr>\n",
       "  </tbody>\n",
       "</table>\n",
       "<p>52381 rows × 14 columns</p>\n",
       "</div>"
      ],
      "text/plain": [
       "             TG  time_step  month_1  month_2  month_3  month_4  month_5  \\\n",
       "DATE                                                                      \n",
       "1876-01-01   22          0        1        0        0        0        0   \n",
       "1876-01-03    3          2        1        0        0        0        0   \n",
       "1876-01-04  -58          3        1        0        0        0        0   \n",
       "1876-01-05  -98          4        1        0        0        0        0   \n",
       "1876-01-06  -77          5        1        0        0        0        0   \n",
       "...         ...        ...      ...      ...      ...      ...      ...   \n",
       "2021-05-27  118      52377        0        0        0        0        1   \n",
       "2021-05-28  116      52378        0        0        0        0        1   \n",
       "2021-05-29  125      52379        0        0        0        0        1   \n",
       "2021-05-30  139      52380        0        0        0        0        1   \n",
       "2021-05-31  147      52381        0        0        0        0        1   \n",
       "\n",
       "            month_6  month_7  month_8  month_9  month_10  month_11  month_12  \n",
       "DATE                                                                          \n",
       "1876-01-01        0        0        0        0         0         0         0  \n",
       "1876-01-03        0        0        0        0         0         0         0  \n",
       "1876-01-04        0        0        0        0         0         0         0  \n",
       "1876-01-05        0        0        0        0         0         0         0  \n",
       "1876-01-06        0        0        0        0         0         0         0  \n",
       "...             ...      ...      ...      ...       ...       ...       ...  \n",
       "2021-05-27        0        0        0        0         0         0         0  \n",
       "2021-05-28        0        0        0        0         0         0         0  \n",
       "2021-05-29        0        0        0        0         0         0         0  \n",
       "2021-05-30        0        0        0        0         0         0         0  \n",
       "2021-05-31        0        0        0        0         0         0         0  \n",
       "\n",
       "[52381 rows x 14 columns]"
      ]
     },
     "execution_count": 23,
     "metadata": {},
     "output_type": "execute_result"
    }
   ],
   "source": [
    "dfcc"
   ]
  },
  {
   "cell_type": "code",
   "execution_count": 119,
   "id": "cdbead6d",
   "metadata": {},
   "outputs": [],
   "source": [
    "\n",
    "#train-test split\n",
    "df_tr=dfcc[:-10000]\n",
    "df_te=dfcc[-10000:]\n",
    "season_dummies_tr=season_dummies[:-10000]"
   ]
  },
  {
   "cell_type": "code",
   "execution_count": 120,
   "id": "f604a2a0",
   "metadata": {},
   "outputs": [
    {
     "data": {
      "text/plain": [
       "Index(['TG', 'time_step', 'month_1', 'month_2', 'month_3', 'month_4',\n",
       "       'month_5', 'month_6', 'month_7', 'month_8', 'month_9', 'month_10',\n",
       "       'month_11', 'month_12'],\n",
       "      dtype='object')"
      ]
     },
     "execution_count": 120,
     "metadata": {},
     "output_type": "execute_result"
    }
   ],
   "source": [
    "df_tr.columns"
   ]
  },
  {
   "cell_type": "code",
   "execution_count": 133,
   "id": "5e11f22e",
   "metadata": {},
   "outputs": [],
   "source": [
    "X=df_tr[['time_step', 'month_1', 'month_2', 'month_3', 'month_4',\n",
    "       'month_5', 'month_6', 'month_7', 'month_8', 'month_9', 'month_10',\n",
    "       'month_11', 'month_12']]\n",
    "y=df_tr['TG']"
   ]
  },
  {
   "cell_type": "code",
   "execution_count": 134,
   "id": "ebb7b499",
   "metadata": {},
   "outputs": [
    {
     "data": {
      "text/plain": [
       "DATE\n",
       "1876-01-01    22\n",
       "1876-01-03     3\n",
       "1876-01-04   -58\n",
       "1876-01-05   -98\n",
       "1876-01-06   -77\n",
       "              ..\n",
       "1994-01-09    14\n",
       "1994-01-10    22\n",
       "1994-01-11    24\n",
       "1994-01-12    62\n",
       "1994-01-13    88\n",
       "Name: TG, Length: 42381, dtype: int64"
      ]
     },
     "execution_count": 134,
     "metadata": {},
     "output_type": "execute_result"
    }
   ],
   "source": [
    "y"
   ]
  },
  {
   "cell_type": "code",
   "execution_count": 135,
   "id": "613582c0",
   "metadata": {},
   "outputs": [
    {
     "data": {
      "text/plain": [
       "LinearRegression()"
      ]
     },
     "execution_count": 135,
     "metadata": {},
     "output_type": "execute_result"
    }
   ],
   "source": [
    "m=LinearRegression()\n",
    "m.fit(X,y)"
   ]
  },
  {
   "cell_type": "code",
   "execution_count": 136,
   "id": "35a6418a",
   "metadata": {},
   "outputs": [
    {
     "name": "stderr",
     "output_type": "stream",
     "text": [
      "<ipython-input-136-5e9f09989680>:2: SettingWithCopyWarning: \n",
      "A value is trying to be set on a copy of a slice from a DataFrame.\n",
      "Try using .loc[row_indexer,col_indexer] = value instead\n",
      "\n",
      "See the caveats in the documentation: https://pandas.pydata.org/pandas-docs/stable/user_guide/indexing.html#returning-a-view-versus-a-copy\n",
      "  df_tr['y_p']=y_p\n"
     ]
    }
   ],
   "source": [
    "y_p=m.predict(X)\n",
    "df_tr['y_p']=y_p"
   ]
  },
  {
   "cell_type": "code",
   "execution_count": 137,
   "id": "76fce270",
   "metadata": {},
   "outputs": [
    {
     "data": {
      "text/plain": [
       "<AxesSubplot:xlabel='DATE'>"
      ]
     },
     "execution_count": 137,
     "metadata": {},
     "output_type": "execute_result"
    },
    {
     "data": {
      "image/png": "[encoded data removed]",
      "text/plain": [
       "<Figure size 864x432 with 1 Axes>"
      ]
     },
     "metadata": {
      "needs_background": "light"
     },
     "output_type": "display_data"
    }
   ],
   "source": [
    "df_tr[['y_p','TG']].plot()"
   ]
  },
  {
   "cell_type": "code",
   "execution_count": 138,
   "id": "620ca87c",
   "metadata": {},
   "outputs": [
    {
     "data": {
      "text/html": [
       "<div>\n",
       "<style scoped>\n",
       "    .dataframe tbody tr th:only-of-type {\n",
       "        vertical-align: middle;\n",
       "    }\n",
       "\n",
       "    .dataframe tbody tr th {\n",
       "        vertical-align: top;\n",
       "    }\n",
       "\n",
       "    .dataframe thead th {\n",
       "        text-align: right;\n",
       "    }\n",
       "</style>\n",
       "<table border=\"1\" class=\"dataframe\">\n",
       "  <thead>\n",
       "    <tr style=\"text-align: right;\">\n",
       "      <th></th>\n",
       "      <th>y_p</th>\n",
       "      <th>TG</th>\n",
       "    </tr>\n",
       "    <tr>\n",
       "      <th>DATE</th>\n",
       "      <th></th>\n",
       "      <th></th>\n",
       "    </tr>\n",
       "  </thead>\n",
       "  <tbody>\n",
       "    <tr>\n",
       "      <th>1876-01-01</th>\n",
       "      <td>-5.892678</td>\n",
       "      <td>22</td>\n",
       "    </tr>\n",
       "    <tr>\n",
       "      <th>1876-01-03</th>\n",
       "      <td>-5.892331</td>\n",
       "      <td>3</td>\n",
       "    </tr>\n",
       "    <tr>\n",
       "      <th>1876-01-04</th>\n",
       "      <td>-5.892158</td>\n",
       "      <td>-58</td>\n",
       "    </tr>\n",
       "    <tr>\n",
       "      <th>1876-01-05</th>\n",
       "      <td>-5.891984</td>\n",
       "      <td>-98</td>\n",
       "    </tr>\n",
       "    <tr>\n",
       "      <th>1876-01-06</th>\n",
       "      <td>-5.891811</td>\n",
       "      <td>-77</td>\n",
       "    </tr>\n",
       "    <tr>\n",
       "      <th>...</th>\n",
       "      <td>...</td>\n",
       "      <td>...</td>\n",
       "    </tr>\n",
       "    <tr>\n",
       "      <th>1994-01-09</th>\n",
       "      <td>1.452374</td>\n",
       "      <td>14</td>\n",
       "    </tr>\n",
       "    <tr>\n",
       "      <th>1994-01-10</th>\n",
       "      <td>1.452547</td>\n",
       "      <td>22</td>\n",
       "    </tr>\n",
       "    <tr>\n",
       "      <th>1994-01-11</th>\n",
       "      <td>1.452720</td>\n",
       "      <td>24</td>\n",
       "    </tr>\n",
       "    <tr>\n",
       "      <th>1994-01-12</th>\n",
       "      <td>1.452894</td>\n",
       "      <td>62</td>\n",
       "    </tr>\n",
       "    <tr>\n",
       "      <th>1994-01-13</th>\n",
       "      <td>1.453067</td>\n",
       "      <td>88</td>\n",
       "    </tr>\n",
       "  </tbody>\n",
       "</table>\n",
       "<p>42381 rows × 2 columns</p>\n",
       "</div>"
      ],
      "text/plain": [
       "                 y_p  TG\n",
       "DATE                    \n",
       "1876-01-01 -5.892678  22\n",
       "1876-01-03 -5.892331   3\n",
       "1876-01-04 -5.892158 -58\n",
       "1876-01-05 -5.891984 -98\n",
       "1876-01-06 -5.891811 -77\n",
       "...              ...  ..\n",
       "1994-01-09  1.452374  14\n",
       "1994-01-10  1.452547  22\n",
       "1994-01-11  1.452720  24\n",
       "1994-01-12  1.452894  62\n",
       "1994-01-13  1.453067  88\n",
       "\n",
       "[42381 rows x 2 columns]"
      ]
     },
     "execution_count": 138,
     "metadata": {},
     "output_type": "execute_result"
    }
   ],
   "source": [
    "df_tr[['y_p','TG']]"
   ]
  },
  {
   "cell_type": "code",
   "execution_count": 213,
   "id": "2abbb536",
   "metadata": {},
   "outputs": [
    {
     "data": {
      "text/plain": [
       "<matplotlib.legend.Legend at 0x7f6e64afaf10>"
      ]
     },
     "execution_count": 213,
     "metadata": {},
     "output_type": "execute_result"
    },
    {
     "data": {
      "image/png": "[encoded data removed]",
      "text/plain": [
       "<Figure size 864x432 with 1 Axes>"
      ]
     },
     "metadata": {
      "needs_background": "light"
     },
     "output_type": "display_data"
    }
   ],
   "source": [
    "#df_tr[(df_tr.index >= '1991-01-01') ][['y_p','TG']].plot(label=('prediction','observation'))\n",
    "\n",
    "y1=df_tr[(df_tr.index >= '1991-01-01') ]['y_p']\n",
    "y2=df_tr[(df_tr.index >= '1991-01-01') ]['TG']\n",
    "x=df_tr[(df_tr.index >= '1991-01-01') ].index\n",
    "plt.plot(x, y1, label='prediction')\n",
    "plt.plot(x, y2, label='observation')\n",
    "plt.xlabel('Date')\n",
    "plt.ylabel('Temperature ℃*10')\n",
    "plt.title('1991-1994 daily temperature vs base-line-model-prediction in Berlin Tempelhof', fontsize = 15,color='blue')\n",
    "plt.legend()"
   ]
  },
  {
   "cell_type": "code",
   "execution_count": 140,
   "id": "ba6e2887",
   "metadata": {},
   "outputs": [
    {
     "data": {
      "text/plain": [
       "0.7507854171803987"
      ]
     },
     "execution_count": 140,
     "metadata": {},
     "output_type": "execute_result"
    }
   ],
   "source": [
    "m.score(X,y)"
   ]
  },
  {
   "cell_type": "code",
   "execution_count": null,
   "id": "511d814f",
   "metadata": {},
   "outputs": [],
   "source": []
  },
  {
   "cell_type": "markdown",
   "id": "2d2f8869",
   "metadata": {},
   "source": [
    "## 3. Plot and inspect the different components of a time series"
   ]
  },
  {
   "cell_type": "code",
   "execution_count": 141,
   "id": "70a4d20e",
   "metadata": {},
   "outputs": [
    {
     "name": "stderr",
     "output_type": "stream",
     "text": [
      "<ipython-input-141-535178b7448b>:2: SettingWithCopyWarning: \n",
      "A value is trying to be set on a copy of a slice from a DataFrame.\n",
      "Try using .loc[row_indexer,col_indexer] = value instead\n",
      "\n",
      "See the caveats in the documentation: https://pandas.pydata.org/pandas-docs/stable/user_guide/indexing.html#returning-a-view-versus-a-copy\n",
      "  df_tr['remainder']=df_tr['TG']-df_tr['y_p']\n"
     ]
    }
   ],
   "source": [
    "#add remainder column\n",
    "df_tr['remainder']=df_tr['TG']-df_tr['y_p']"
   ]
  },
  {
   "cell_type": "code",
   "execution_count": 142,
   "id": "467a19e2",
   "metadata": {},
   "outputs": [
    {
     "data": {
      "text/plain": [
       "<AxesSubplot:xlabel='DATE'>"
      ]
     },
     "execution_count": 142,
     "metadata": {},
     "output_type": "execute_result"
    },
    {
     "data": {
      "image/png": "[encoded data removed]",
      "text/plain": [
       "<Figure size 864x432 with 1 Axes>"
      ]
     },
     "metadata": {
      "needs_background": "light"
     },
     "output_type": "display_data"
    }
   ],
   "source": [
    "df_tr[(df_tr.index >= '1991-01-01') ]['remainder'].plot()"
   ]
  },
  {
   "cell_type": "code",
   "execution_count": 36,
   "id": "d78380d9",
   "metadata": {},
   "outputs": [],
   "source": [
    "#df_tr.isna().sum()"
   ]
  },
  {
   "cell_type": "code",
   "execution_count": 37,
   "id": "d4d20170",
   "metadata": {},
   "outputs": [],
   "source": [
    "#plt.scatter(data=df_tr[(df_tr.index >= '1991-01-01') ],x='DATE',y='remainder')"
   ]
  },
  {
   "cell_type": "code",
   "execution_count": 143,
   "id": "9f3f037f",
   "metadata": {},
   "outputs": [
    {
     "name": "stderr",
     "output_type": "stream",
     "text": [
      "<ipython-input-143-4ea518befe09>:1: SettingWithCopyWarning: \n",
      "A value is trying to be set on a copy of a slice from a DataFrame.\n",
      "Try using .loc[row_indexer,col_indexer] = value instead\n",
      "\n",
      "See the caveats in the documentation: https://pandas.pydata.org/pandas-docs/stable/user_guide/indexing.html#returning-a-view-versus-a-copy\n",
      "  df_tr['lag1']=df_tr['remainder'].shift(1)\n"
     ]
    }
   ],
   "source": [
    "df_tr['lag1']=df_tr['remainder'].shift(1)"
   ]
  },
  {
   "cell_type": "code",
   "execution_count": 144,
   "id": "ef046f50",
   "metadata": {},
   "outputs": [
    {
     "data": {
      "text/html": [
       "<div>\n",
       "<style scoped>\n",
       "    .dataframe tbody tr th:only-of-type {\n",
       "        vertical-align: middle;\n",
       "    }\n",
       "\n",
       "    .dataframe tbody tr th {\n",
       "        vertical-align: top;\n",
       "    }\n",
       "\n",
       "    .dataframe thead th {\n",
       "        text-align: right;\n",
       "    }\n",
       "</style>\n",
       "<table border=\"1\" class=\"dataframe\">\n",
       "  <thead>\n",
       "    <tr style=\"text-align: right;\">\n",
       "      <th></th>\n",
       "      <th>TG</th>\n",
       "      <th>time_step</th>\n",
       "      <th>month_1</th>\n",
       "      <th>month_2</th>\n",
       "      <th>month_3</th>\n",
       "      <th>month_4</th>\n",
       "      <th>month_5</th>\n",
       "      <th>month_6</th>\n",
       "      <th>month_7</th>\n",
       "      <th>month_8</th>\n",
       "      <th>month_9</th>\n",
       "      <th>month_10</th>\n",
       "      <th>month_11</th>\n",
       "      <th>month_12</th>\n",
       "      <th>y_p</th>\n",
       "      <th>remainder</th>\n",
       "      <th>lag1</th>\n",
       "    </tr>\n",
       "    <tr>\n",
       "      <th>DATE</th>\n",
       "      <th></th>\n",
       "      <th></th>\n",
       "      <th></th>\n",
       "      <th></th>\n",
       "      <th></th>\n",
       "      <th></th>\n",
       "      <th></th>\n",
       "      <th></th>\n",
       "      <th></th>\n",
       "      <th></th>\n",
       "      <th></th>\n",
       "      <th></th>\n",
       "      <th></th>\n",
       "      <th></th>\n",
       "      <th></th>\n",
       "      <th></th>\n",
       "      <th></th>\n",
       "    </tr>\n",
       "  </thead>\n",
       "  <tbody>\n",
       "    <tr>\n",
       "      <th>1876-01-01</th>\n",
       "      <td>22</td>\n",
       "      <td>0</td>\n",
       "      <td>1</td>\n",
       "      <td>0</td>\n",
       "      <td>0</td>\n",
       "      <td>0</td>\n",
       "      <td>0</td>\n",
       "      <td>0</td>\n",
       "      <td>0</td>\n",
       "      <td>0</td>\n",
       "      <td>0</td>\n",
       "      <td>0</td>\n",
       "      <td>0</td>\n",
       "      <td>0</td>\n",
       "      <td>-5.892678</td>\n",
       "      <td>27.892678</td>\n",
       "      <td>NaN</td>\n",
       "    </tr>\n",
       "    <tr>\n",
       "      <th>1876-01-03</th>\n",
       "      <td>3</td>\n",
       "      <td>2</td>\n",
       "      <td>1</td>\n",
       "      <td>0</td>\n",
       "      <td>0</td>\n",
       "      <td>0</td>\n",
       "      <td>0</td>\n",
       "      <td>0</td>\n",
       "      <td>0</td>\n",
       "      <td>0</td>\n",
       "      <td>0</td>\n",
       "      <td>0</td>\n",
       "      <td>0</td>\n",
       "      <td>0</td>\n",
       "      <td>-5.892331</td>\n",
       "      <td>8.892331</td>\n",
       "      <td>27.892678</td>\n",
       "    </tr>\n",
       "    <tr>\n",
       "      <th>1876-01-04</th>\n",
       "      <td>-58</td>\n",
       "      <td>3</td>\n",
       "      <td>1</td>\n",
       "      <td>0</td>\n",
       "      <td>0</td>\n",
       "      <td>0</td>\n",
       "      <td>0</td>\n",
       "      <td>0</td>\n",
       "      <td>0</td>\n",
       "      <td>0</td>\n",
       "      <td>0</td>\n",
       "      <td>0</td>\n",
       "      <td>0</td>\n",
       "      <td>0</td>\n",
       "      <td>-5.892158</td>\n",
       "      <td>-52.107842</td>\n",
       "      <td>8.892331</td>\n",
       "    </tr>\n",
       "    <tr>\n",
       "      <th>1876-01-05</th>\n",
       "      <td>-98</td>\n",
       "      <td>4</td>\n",
       "      <td>1</td>\n",
       "      <td>0</td>\n",
       "      <td>0</td>\n",
       "      <td>0</td>\n",
       "      <td>0</td>\n",
       "      <td>0</td>\n",
       "      <td>0</td>\n",
       "      <td>0</td>\n",
       "      <td>0</td>\n",
       "      <td>0</td>\n",
       "      <td>0</td>\n",
       "      <td>0</td>\n",
       "      <td>-5.891984</td>\n",
       "      <td>-92.108016</td>\n",
       "      <td>-52.107842</td>\n",
       "    </tr>\n",
       "    <tr>\n",
       "      <th>1876-01-06</th>\n",
       "      <td>-77</td>\n",
       "      <td>5</td>\n",
       "      <td>1</td>\n",
       "      <td>0</td>\n",
       "      <td>0</td>\n",
       "      <td>0</td>\n",
       "      <td>0</td>\n",
       "      <td>0</td>\n",
       "      <td>0</td>\n",
       "      <td>0</td>\n",
       "      <td>0</td>\n",
       "      <td>0</td>\n",
       "      <td>0</td>\n",
       "      <td>0</td>\n",
       "      <td>-5.891811</td>\n",
       "      <td>-71.108189</td>\n",
       "      <td>-92.108016</td>\n",
       "    </tr>\n",
       "    <tr>\n",
       "      <th>...</th>\n",
       "      <td>...</td>\n",
       "      <td>...</td>\n",
       "      <td>...</td>\n",
       "      <td>...</td>\n",
       "      <td>...</td>\n",
       "      <td>...</td>\n",
       "      <td>...</td>\n",
       "      <td>...</td>\n",
       "      <td>...</td>\n",
       "      <td>...</td>\n",
       "      <td>...</td>\n",
       "      <td>...</td>\n",
       "      <td>...</td>\n",
       "      <td>...</td>\n",
       "      <td>...</td>\n",
       "      <td>...</td>\n",
       "      <td>...</td>\n",
       "    </tr>\n",
       "    <tr>\n",
       "      <th>1994-01-09</th>\n",
       "      <td>14</td>\n",
       "      <td>42377</td>\n",
       "      <td>1</td>\n",
       "      <td>0</td>\n",
       "      <td>0</td>\n",
       "      <td>0</td>\n",
       "      <td>0</td>\n",
       "      <td>0</td>\n",
       "      <td>0</td>\n",
       "      <td>0</td>\n",
       "      <td>0</td>\n",
       "      <td>0</td>\n",
       "      <td>0</td>\n",
       "      <td>0</td>\n",
       "      <td>1.452374</td>\n",
       "      <td>12.547626</td>\n",
       "      <td>33.547800</td>\n",
       "    </tr>\n",
       "    <tr>\n",
       "      <th>1994-01-10</th>\n",
       "      <td>22</td>\n",
       "      <td>42378</td>\n",
       "      <td>1</td>\n",
       "      <td>0</td>\n",
       "      <td>0</td>\n",
       "      <td>0</td>\n",
       "      <td>0</td>\n",
       "      <td>0</td>\n",
       "      <td>0</td>\n",
       "      <td>0</td>\n",
       "      <td>0</td>\n",
       "      <td>0</td>\n",
       "      <td>0</td>\n",
       "      <td>0</td>\n",
       "      <td>1.452547</td>\n",
       "      <td>20.547453</td>\n",
       "      <td>12.547626</td>\n",
       "    </tr>\n",
       "    <tr>\n",
       "      <th>1994-01-11</th>\n",
       "      <td>24</td>\n",
       "      <td>42379</td>\n",
       "      <td>1</td>\n",
       "      <td>0</td>\n",
       "      <td>0</td>\n",
       "      <td>0</td>\n",
       "      <td>0</td>\n",
       "      <td>0</td>\n",
       "      <td>0</td>\n",
       "      <td>0</td>\n",
       "      <td>0</td>\n",
       "      <td>0</td>\n",
       "      <td>0</td>\n",
       "      <td>0</td>\n",
       "      <td>1.452720</td>\n",
       "      <td>22.547280</td>\n",
       "      <td>20.547453</td>\n",
       "    </tr>\n",
       "    <tr>\n",
       "      <th>1994-01-12</th>\n",
       "      <td>62</td>\n",
       "      <td>42380</td>\n",
       "      <td>1</td>\n",
       "      <td>0</td>\n",
       "      <td>0</td>\n",
       "      <td>0</td>\n",
       "      <td>0</td>\n",
       "      <td>0</td>\n",
       "      <td>0</td>\n",
       "      <td>0</td>\n",
       "      <td>0</td>\n",
       "      <td>0</td>\n",
       "      <td>0</td>\n",
       "      <td>0</td>\n",
       "      <td>1.452894</td>\n",
       "      <td>60.547106</td>\n",
       "      <td>22.547280</td>\n",
       "    </tr>\n",
       "    <tr>\n",
       "      <th>1994-01-13</th>\n",
       "      <td>88</td>\n",
       "      <td>42381</td>\n",
       "      <td>1</td>\n",
       "      <td>0</td>\n",
       "      <td>0</td>\n",
       "      <td>0</td>\n",
       "      <td>0</td>\n",
       "      <td>0</td>\n",
       "      <td>0</td>\n",
       "      <td>0</td>\n",
       "      <td>0</td>\n",
       "      <td>0</td>\n",
       "      <td>0</td>\n",
       "      <td>0</td>\n",
       "      <td>1.453067</td>\n",
       "      <td>86.546933</td>\n",
       "      <td>60.547106</td>\n",
       "    </tr>\n",
       "  </tbody>\n",
       "</table>\n",
       "<p>42381 rows × 17 columns</p>\n",
       "</div>"
      ],
      "text/plain": [
       "            TG  time_step  month_1  month_2  month_3  month_4  month_5  \\\n",
       "DATE                                                                     \n",
       "1876-01-01  22          0        1        0        0        0        0   \n",
       "1876-01-03   3          2        1        0        0        0        0   \n",
       "1876-01-04 -58          3        1        0        0        0        0   \n",
       "1876-01-05 -98          4        1        0        0        0        0   \n",
       "1876-01-06 -77          5        1        0        0        0        0   \n",
       "...         ..        ...      ...      ...      ...      ...      ...   \n",
       "1994-01-09  14      42377        1        0        0        0        0   \n",
       "1994-01-10  22      42378        1        0        0        0        0   \n",
       "1994-01-11  24      42379        1        0        0        0        0   \n",
       "1994-01-12  62      42380        1        0        0        0        0   \n",
       "1994-01-13  88      42381        1        0        0        0        0   \n",
       "\n",
       "            month_6  month_7  month_8  month_9  month_10  month_11  month_12  \\\n",
       "DATE                                                                           \n",
       "1876-01-01        0        0        0        0         0         0         0   \n",
       "1876-01-03        0        0        0        0         0         0         0   \n",
       "1876-01-04        0        0        0        0         0         0         0   \n",
       "1876-01-05        0        0        0        0         0         0         0   \n",
       "1876-01-06        0        0        0        0         0         0         0   \n",
       "...             ...      ...      ...      ...       ...       ...       ...   \n",
       "1994-01-09        0        0        0        0         0         0         0   \n",
       "1994-01-10        0        0        0        0         0         0         0   \n",
       "1994-01-11        0        0        0        0         0         0         0   \n",
       "1994-01-12        0        0        0        0         0         0         0   \n",
       "1994-01-13        0        0        0        0         0         0         0   \n",
       "\n",
       "                 y_p  remainder       lag1  \n",
       "DATE                                        \n",
       "1876-01-01 -5.892678  27.892678        NaN  \n",
       "1876-01-03 -5.892331   8.892331  27.892678  \n",
       "1876-01-04 -5.892158 -52.107842   8.892331  \n",
       "1876-01-05 -5.891984 -92.108016 -52.107842  \n",
       "1876-01-06 -5.891811 -71.108189 -92.108016  \n",
       "...              ...        ...        ...  \n",
       "1994-01-09  1.452374  12.547626  33.547800  \n",
       "1994-01-10  1.452547  20.547453  12.547626  \n",
       "1994-01-11  1.452720  22.547280  20.547453  \n",
       "1994-01-12  1.452894  60.547106  22.547280  \n",
       "1994-01-13  1.453067  86.546933  60.547106  \n",
       "\n",
       "[42381 rows x 17 columns]"
      ]
     },
     "execution_count": 144,
     "metadata": {},
     "output_type": "execute_result"
    }
   ],
   "source": [
    "df_tr"
   ]
  },
  {
   "cell_type": "code",
   "execution_count": 145,
   "id": "8a7c1e70",
   "metadata": {},
   "outputs": [],
   "source": [
    "df_trn=df_tr.dropna()\n"
   ]
  },
  {
   "cell_type": "code",
   "execution_count": 146,
   "id": "ef42b358",
   "metadata": {},
   "outputs": [
    {
     "data": {
      "text/plain": [
       "<matplotlib.collections.PathCollection at 0x7f6e6516c9a0>"
      ]
     },
     "execution_count": 146,
     "metadata": {},
     "output_type": "execute_result"
    },
    {
     "data": {
      "image/png": "[encoded data removed]",
      "text/plain": [
       "<Figure size 864x432 with 1 Axes>"
      ]
     },
     "metadata": {
      "needs_background": "light"
     },
     "output_type": "display_data"
    }
   ],
   "source": [
    "plt.scatter(x='remainder',y='lag1',data=df_trn)"
   ]
  },
  {
   "cell_type": "code",
   "execution_count": 147,
   "id": "3957e788",
   "metadata": {},
   "outputs": [
    {
     "data": {
      "text/html": [
       "<div>\n",
       "<style scoped>\n",
       "    .dataframe tbody tr th:only-of-type {\n",
       "        vertical-align: middle;\n",
       "    }\n",
       "\n",
       "    .dataframe tbody tr th {\n",
       "        vertical-align: top;\n",
       "    }\n",
       "\n",
       "    .dataframe thead th {\n",
       "        text-align: right;\n",
       "    }\n",
       "</style>\n",
       "<table border=\"1\" class=\"dataframe\">\n",
       "  <thead>\n",
       "    <tr style=\"text-align: right;\">\n",
       "      <th></th>\n",
       "      <th>remainder</th>\n",
       "      <th>lag1</th>\n",
       "    </tr>\n",
       "  </thead>\n",
       "  <tbody>\n",
       "    <tr>\n",
       "      <th>remainder</th>\n",
       "      <td>1.000000</td>\n",
       "      <td>0.800893</td>\n",
       "    </tr>\n",
       "    <tr>\n",
       "      <th>lag1</th>\n",
       "      <td>0.800893</td>\n",
       "      <td>1.000000</td>\n",
       "    </tr>\n",
       "  </tbody>\n",
       "</table>\n",
       "</div>"
      ],
      "text/plain": [
       "           remainder      lag1\n",
       "remainder   1.000000  0.800893\n",
       "lag1        0.800893  1.000000"
      ]
     },
     "execution_count": 147,
     "metadata": {},
     "output_type": "execute_result"
    }
   ],
   "source": [
    "df_trn[['remainder','lag1']].corr()"
   ]
  },
  {
   "cell_type": "code",
   "execution_count": 148,
   "id": "f8777e60",
   "metadata": {},
   "outputs": [],
   "source": [
    "X=df_trn[['time_step', 'month_1', 'month_2', 'month_3', 'month_4',\n",
    "       'month_5', 'month_6', 'month_7', 'month_8', 'month_9', 'month_10',\n",
    "       'month_11', 'month_12','lag1']]\n",
    "y=df_trn['TG']"
   ]
  },
  {
   "cell_type": "code",
   "execution_count": 149,
   "id": "91356305",
   "metadata": {},
   "outputs": [],
   "source": [
    "n=LinearRegression()"
   ]
  },
  {
   "cell_type": "code",
   "execution_count": 150,
   "id": "d95e5acd",
   "metadata": {},
   "outputs": [
    {
     "data": {
      "text/plain": [
       "LinearRegression()"
      ]
     },
     "execution_count": 150,
     "metadata": {},
     "output_type": "execute_result"
    }
   ],
   "source": [
    "n.fit(X,y)"
   ]
  },
  {
   "cell_type": "code",
   "execution_count": 151,
   "id": "f1012603",
   "metadata": {},
   "outputs": [
    {
     "name": "stderr",
     "output_type": "stream",
     "text": [
      "<ipython-input-151-74a5aeb64955>:1: SettingWithCopyWarning: \n",
      "A value is trying to be set on a copy of a slice from a DataFrame.\n",
      "Try using .loc[row_indexer,col_indexer] = value instead\n",
      "\n",
      "See the caveats in the documentation: https://pandas.pydata.org/pandas-docs/stable/user_guide/indexing.html#returning-a-view-versus-a-copy\n",
      "  df_trn['y_p1']=n.predict(X)\n"
     ]
    }
   ],
   "source": [
    "df_trn['y_p1']=n.predict(X)"
   ]
  },
  {
   "cell_type": "code",
   "execution_count": 152,
   "id": "fdf596ac",
   "metadata": {},
   "outputs": [
    {
     "data": {
      "text/plain": [
       "<AxesSubplot:xlabel='DATE'>"
      ]
     },
     "execution_count": 152,
     "metadata": {},
     "output_type": "execute_result"
    },
    {
     "data": {
      "image/png": "[encoded data removed]",
      "text/plain": [
       "<Figure size 864x432 with 1 Axes>"
      ]
     },
     "metadata": {
      "needs_background": "light"
     },
     "output_type": "display_data"
    }
   ],
   "source": [
    "df_trn[df_trn.index<'1878'][['TG','y_p','y_p1']].plot()"
   ]
  },
  {
   "cell_type": "code",
   "execution_count": 153,
   "id": "ee0b669c",
   "metadata": {},
   "outputs": [
    {
     "data": {
      "text/plain": [
       "0.9106508249728461"
      ]
     },
     "execution_count": 153,
     "metadata": {},
     "output_type": "execute_result"
    }
   ],
   "source": [
    "n.score(X,y)"
   ]
  },
  {
   "cell_type": "code",
   "execution_count": 154,
   "id": "f5074600",
   "metadata": {},
   "outputs": [
    {
     "name": "stderr",
     "output_type": "stream",
     "text": [
      "<ipython-input-154-99de108ddcb4>:1: SettingWithCopyWarning: \n",
      "A value is trying to be set on a copy of a slice from a DataFrame.\n",
      "Try using .loc[row_indexer,col_indexer] = value instead\n",
      "\n",
      "See the caveats in the documentation: https://pandas.pydata.org/pandas-docs/stable/user_guide/indexing.html#returning-a-view-versus-a-copy\n",
      "  df_trn['lag2']=df_trn['remainder'].shift(2)\n"
     ]
    }
   ],
   "source": [
    "\n",
    "df_trn['lag2']=df_trn['remainder'].shift(2)"
   ]
  },
  {
   "cell_type": "code",
   "execution_count": 155,
   "id": "dc53c78b",
   "metadata": {},
   "outputs": [],
   "source": [
    "df_trnn=df_trn.dropna()"
   ]
  },
  {
   "cell_type": "code",
   "execution_count": 156,
   "id": "bafc6806",
   "metadata": {},
   "outputs": [],
   "source": [
    "X=df_trnn[['time_step', 'month_1', 'month_2', 'month_3', 'month_4',\n",
    "       'month_5', 'month_6', 'month_7', 'month_8', 'month_9', 'month_10',\n",
    "       'month_11', 'month_12','lag1','lag2']]\n",
    "y=df_trnn['TG']"
   ]
  },
  {
   "cell_type": "code",
   "execution_count": 157,
   "id": "2b9625b4",
   "metadata": {},
   "outputs": [],
   "source": [
    "o=LinearRegression()"
   ]
  },
  {
   "cell_type": "code",
   "execution_count": 158,
   "id": "27c65882",
   "metadata": {},
   "outputs": [
    {
     "data": {
      "text/plain": [
       "LinearRegression()"
      ]
     },
     "execution_count": 158,
     "metadata": {},
     "output_type": "execute_result"
    }
   ],
   "source": [
    "o.fit(X,y)"
   ]
  },
  {
   "cell_type": "code",
   "execution_count": 159,
   "id": "bc7c469f",
   "metadata": {},
   "outputs": [
    {
     "data": {
      "text/plain": [
       "0.9120688146269234"
      ]
     },
     "execution_count": 159,
     "metadata": {},
     "output_type": "execute_result"
    }
   ],
   "source": [
    "o.score(X,y)"
   ]
  },
  {
   "cell_type": "markdown",
   "id": "64917c54",
   "metadata": {},
   "source": [
    "#  cross validation"
   ]
  },
  {
   "cell_type": "code",
   "execution_count": null,
   "id": "b99902bd",
   "metadata": {},
   "outputs": [],
   "source": []
  },
  {
   "cell_type": "code",
   "execution_count": 55,
   "id": "28cfd301",
   "metadata": {},
   "outputs": [],
   "source": [
    "#Create a TimeSeriesSplit object\n",
    "ts_split=TimeSeriesSplit(n_splits=5)"
   ]
  },
  {
   "cell_type": "code",
   "execution_count": 56,
   "id": "3a9074e5",
   "metadata": {},
   "outputs": [],
   "source": [
    "time_series_split=ts_split.split(X,y)"
   ]
  },
  {
   "cell_type": "code",
   "execution_count": 57,
   "id": "0de867e9",
   "metadata": {},
   "outputs": [],
   "source": [
    "result = cross_val_score(estimator=o, X=X,y=y, cv=time_series_split)"
   ]
  },
  {
   "cell_type": "code",
   "execution_count": 58,
   "id": "124c4a4f",
   "metadata": {},
   "outputs": [
    {
     "data": {
      "text/plain": [
       "0.9120688146269234"
      ]
     },
     "execution_count": 58,
     "metadata": {},
     "output_type": "execute_result"
    }
   ],
   "source": [
    "o.score(X,y)"
   ]
  },
  {
   "cell_type": "raw",
   "id": "c0872e58",
   "metadata": {},
   "source": []
  },
  {
   "cell_type": "code",
   "execution_count": 59,
   "id": "6f6cba8c",
   "metadata": {},
   "outputs": [
    {
     "data": {
      "text/plain": [
       "array([0.91183051, 0.90033954, 0.91522939, 0.9118589 , 0.90769371])"
      ]
     },
     "execution_count": 59,
     "metadata": {},
     "output_type": "execute_result"
    }
   ],
   "source": [
    "result"
   ]
  },
  {
   "cell_type": "code",
   "execution_count": 160,
   "id": "e401f56e",
   "metadata": {},
   "outputs": [
    {
     "data": {
      "text/plain": [
       "0.909"
      ]
     },
     "execution_count": 160,
     "metadata": {},
     "output_type": "execute_result"
    }
   ],
   "source": [
    "round(result.mean(),3)"
   ]
  },
  {
   "cell_type": "markdown",
   "id": "c3b1efbd",
   "metadata": {},
   "source": [
    "\n"
   ]
  },
  {
   "cell_type": "markdown",
   "id": "de7a45f0",
   "metadata": {},
   "source": [
    "## validating the model on test data"
   ]
  },
  {
   "cell_type": "code",
   "execution_count": 161,
   "id": "91a6b515",
   "metadata": {},
   "outputs": [],
   "source": [
    "last_time_step=df_trnn['time_step'][-1]\n",
    "\n"
   ]
  },
  {
   "cell_type": "code",
   "execution_count": 62,
   "id": "2e4fc7f9",
   "metadata": {},
   "outputs": [
    {
     "data": {
      "text/plain": [
       "42381"
      ]
     },
     "execution_count": 62,
     "metadata": {},
     "output_type": "execute_result"
    }
   ],
   "source": [
    "last_time_step"
   ]
  },
  {
   "cell_type": "code",
   "execution_count": 63,
   "id": "613047ad",
   "metadata": {},
   "outputs": [
    {
     "data": {
      "text/plain": [
       "Index(['TG', 'time_step', 'month_1', 'month_2', 'month_3', 'month_4',\n",
       "       'month_5', 'month_6', 'month_7', 'month_8', 'month_9', 'month_10',\n",
       "       'month_11', 'month_12'],\n",
       "      dtype='object')"
      ]
     },
     "execution_count": 63,
     "metadata": {},
     "output_type": "execute_result"
    }
   ],
   "source": [
    "df_te.columns"
   ]
  },
  {
   "cell_type": "code",
   "execution_count": 162,
   "id": "85a44135",
   "metadata": {},
   "outputs": [
    {
     "data": {
      "text/html": [
       "<div>\n",
       "<style scoped>\n",
       "    .dataframe tbody tr th:only-of-type {\n",
       "        vertical-align: middle;\n",
       "    }\n",
       "\n",
       "    .dataframe tbody tr th {\n",
       "        vertical-align: top;\n",
       "    }\n",
       "\n",
       "    .dataframe thead th {\n",
       "        text-align: right;\n",
       "    }\n",
       "</style>\n",
       "<table border=\"1\" class=\"dataframe\">\n",
       "  <thead>\n",
       "    <tr style=\"text-align: right;\">\n",
       "      <th></th>\n",
       "      <th>time_step</th>\n",
       "      <th>month_1</th>\n",
       "      <th>month_2</th>\n",
       "      <th>month_3</th>\n",
       "      <th>month_4</th>\n",
       "      <th>month_5</th>\n",
       "      <th>month_6</th>\n",
       "      <th>month_7</th>\n",
       "      <th>month_8</th>\n",
       "      <th>month_9</th>\n",
       "      <th>month_10</th>\n",
       "      <th>month_11</th>\n",
       "      <th>month_12</th>\n",
       "    </tr>\n",
       "    <tr>\n",
       "      <th>DATE</th>\n",
       "      <th></th>\n",
       "      <th></th>\n",
       "      <th></th>\n",
       "      <th></th>\n",
       "      <th></th>\n",
       "      <th></th>\n",
       "      <th></th>\n",
       "      <th></th>\n",
       "      <th></th>\n",
       "      <th></th>\n",
       "      <th></th>\n",
       "      <th></th>\n",
       "      <th></th>\n",
       "    </tr>\n",
       "  </thead>\n",
       "  <tbody>\n",
       "    <tr>\n",
       "      <th>1994-01-14</th>\n",
       "      <td>42382</td>\n",
       "      <td>1</td>\n",
       "      <td>0</td>\n",
       "      <td>0</td>\n",
       "      <td>0</td>\n",
       "      <td>0</td>\n",
       "      <td>0</td>\n",
       "      <td>0</td>\n",
       "      <td>0</td>\n",
       "      <td>0</td>\n",
       "      <td>0</td>\n",
       "      <td>0</td>\n",
       "      <td>0</td>\n",
       "    </tr>\n",
       "    <tr>\n",
       "      <th>1994-01-15</th>\n",
       "      <td>42383</td>\n",
       "      <td>1</td>\n",
       "      <td>0</td>\n",
       "      <td>0</td>\n",
       "      <td>0</td>\n",
       "      <td>0</td>\n",
       "      <td>0</td>\n",
       "      <td>0</td>\n",
       "      <td>0</td>\n",
       "      <td>0</td>\n",
       "      <td>0</td>\n",
       "      <td>0</td>\n",
       "      <td>0</td>\n",
       "    </tr>\n",
       "    <tr>\n",
       "      <th>1994-01-16</th>\n",
       "      <td>42384</td>\n",
       "      <td>1</td>\n",
       "      <td>0</td>\n",
       "      <td>0</td>\n",
       "      <td>0</td>\n",
       "      <td>0</td>\n",
       "      <td>0</td>\n",
       "      <td>0</td>\n",
       "      <td>0</td>\n",
       "      <td>0</td>\n",
       "      <td>0</td>\n",
       "      <td>0</td>\n",
       "      <td>0</td>\n",
       "    </tr>\n",
       "    <tr>\n",
       "      <th>1994-01-17</th>\n",
       "      <td>42385</td>\n",
       "      <td>1</td>\n",
       "      <td>0</td>\n",
       "      <td>0</td>\n",
       "      <td>0</td>\n",
       "      <td>0</td>\n",
       "      <td>0</td>\n",
       "      <td>0</td>\n",
       "      <td>0</td>\n",
       "      <td>0</td>\n",
       "      <td>0</td>\n",
       "      <td>0</td>\n",
       "      <td>0</td>\n",
       "    </tr>\n",
       "    <tr>\n",
       "      <th>1994-01-18</th>\n",
       "      <td>42386</td>\n",
       "      <td>1</td>\n",
       "      <td>0</td>\n",
       "      <td>0</td>\n",
       "      <td>0</td>\n",
       "      <td>0</td>\n",
       "      <td>0</td>\n",
       "      <td>0</td>\n",
       "      <td>0</td>\n",
       "      <td>0</td>\n",
       "      <td>0</td>\n",
       "      <td>0</td>\n",
       "      <td>0</td>\n",
       "    </tr>\n",
       "    <tr>\n",
       "      <th>...</th>\n",
       "      <td>...</td>\n",
       "      <td>...</td>\n",
       "      <td>...</td>\n",
       "      <td>...</td>\n",
       "      <td>...</td>\n",
       "      <td>...</td>\n",
       "      <td>...</td>\n",
       "      <td>...</td>\n",
       "      <td>...</td>\n",
       "      <td>...</td>\n",
       "      <td>...</td>\n",
       "      <td>...</td>\n",
       "      <td>...</td>\n",
       "    </tr>\n",
       "    <tr>\n",
       "      <th>2021-05-27</th>\n",
       "      <td>52377</td>\n",
       "      <td>0</td>\n",
       "      <td>0</td>\n",
       "      <td>0</td>\n",
       "      <td>0</td>\n",
       "      <td>1</td>\n",
       "      <td>0</td>\n",
       "      <td>0</td>\n",
       "      <td>0</td>\n",
       "      <td>0</td>\n",
       "      <td>0</td>\n",
       "      <td>0</td>\n",
       "      <td>0</td>\n",
       "    </tr>\n",
       "    <tr>\n",
       "      <th>2021-05-28</th>\n",
       "      <td>52378</td>\n",
       "      <td>0</td>\n",
       "      <td>0</td>\n",
       "      <td>0</td>\n",
       "      <td>0</td>\n",
       "      <td>1</td>\n",
       "      <td>0</td>\n",
       "      <td>0</td>\n",
       "      <td>0</td>\n",
       "      <td>0</td>\n",
       "      <td>0</td>\n",
       "      <td>0</td>\n",
       "      <td>0</td>\n",
       "    </tr>\n",
       "    <tr>\n",
       "      <th>2021-05-29</th>\n",
       "      <td>52379</td>\n",
       "      <td>0</td>\n",
       "      <td>0</td>\n",
       "      <td>0</td>\n",
       "      <td>0</td>\n",
       "      <td>1</td>\n",
       "      <td>0</td>\n",
       "      <td>0</td>\n",
       "      <td>0</td>\n",
       "      <td>0</td>\n",
       "      <td>0</td>\n",
       "      <td>0</td>\n",
       "      <td>0</td>\n",
       "    </tr>\n",
       "    <tr>\n",
       "      <th>2021-05-30</th>\n",
       "      <td>52380</td>\n",
       "      <td>0</td>\n",
       "      <td>0</td>\n",
       "      <td>0</td>\n",
       "      <td>0</td>\n",
       "      <td>1</td>\n",
       "      <td>0</td>\n",
       "      <td>0</td>\n",
       "      <td>0</td>\n",
       "      <td>0</td>\n",
       "      <td>0</td>\n",
       "      <td>0</td>\n",
       "      <td>0</td>\n",
       "    </tr>\n",
       "    <tr>\n",
       "      <th>2021-05-31</th>\n",
       "      <td>52381</td>\n",
       "      <td>0</td>\n",
       "      <td>0</td>\n",
       "      <td>0</td>\n",
       "      <td>0</td>\n",
       "      <td>1</td>\n",
       "      <td>0</td>\n",
       "      <td>0</td>\n",
       "      <td>0</td>\n",
       "      <td>0</td>\n",
       "      <td>0</td>\n",
       "      <td>0</td>\n",
       "      <td>0</td>\n",
       "    </tr>\n",
       "  </tbody>\n",
       "</table>\n",
       "<p>10000 rows × 13 columns</p>\n",
       "</div>"
      ],
      "text/plain": [
       "            time_step  month_1  month_2  month_3  month_4  month_5  month_6  \\\n",
       "DATE                                                                          \n",
       "1994-01-14      42382        1        0        0        0        0        0   \n",
       "1994-01-15      42383        1        0        0        0        0        0   \n",
       "1994-01-16      42384        1        0        0        0        0        0   \n",
       "1994-01-17      42385        1        0        0        0        0        0   \n",
       "1994-01-18      42386        1        0        0        0        0        0   \n",
       "...               ...      ...      ...      ...      ...      ...      ...   \n",
       "2021-05-27      52377        0        0        0        0        1        0   \n",
       "2021-05-28      52378        0        0        0        0        1        0   \n",
       "2021-05-29      52379        0        0        0        0        1        0   \n",
       "2021-05-30      52380        0        0        0        0        1        0   \n",
       "2021-05-31      52381        0        0        0        0        1        0   \n",
       "\n",
       "            month_7  month_8  month_9  month_10  month_11  month_12  \n",
       "DATE                                                                 \n",
       "1994-01-14        0        0        0         0         0         0  \n",
       "1994-01-15        0        0        0         0         0         0  \n",
       "1994-01-16        0        0        0         0         0         0  \n",
       "1994-01-17        0        0        0         0         0         0  \n",
       "1994-01-18        0        0        0         0         0         0  \n",
       "...             ...      ...      ...       ...       ...       ...  \n",
       "2021-05-27        0        0        0         0         0         0  \n",
       "2021-05-28        0        0        0         0         0         0  \n",
       "2021-05-29        0        0        0         0         0         0  \n",
       "2021-05-30        0        0        0         0         0         0  \n",
       "2021-05-31        0        0        0         0         0         0  \n",
       "\n",
       "[10000 rows x 13 columns]"
      ]
     },
     "execution_count": 162,
     "metadata": {},
     "output_type": "execute_result"
    }
   ],
   "source": [
    "Xt"
   ]
  },
  {
   "cell_type": "code",
   "execution_count": 64,
   "id": "e7bdcb28",
   "metadata": {},
   "outputs": [],
   "source": [
    "Xt=df_te[['time_step', 'month_1', 'month_2', 'month_3', 'month_4',\n",
    "       'month_5', 'month_6', 'month_7', 'month_8', 'month_9', 'month_10',\n",
    "       'month_11', 'month_12']]"
   ]
  },
  {
   "cell_type": "code",
   "execution_count": 65,
   "id": "834455f0",
   "metadata": {},
   "outputs": [],
   "source": [
    "yt=df_te['TG']"
   ]
  },
  {
   "cell_type": "code",
   "execution_count": 66,
   "id": "55c2ef13",
   "metadata": {},
   "outputs": [
    {
     "name": "stderr",
     "output_type": "stream",
     "text": [
      "<ipython-input-66-9f266f120af0>:1: SettingWithCopyWarning: \n",
      "A value is trying to be set on a copy of a slice from a DataFrame.\n",
      "Try using .loc[row_indexer,col_indexer] = value instead\n",
      "\n",
      "See the caveats in the documentation: https://pandas.pydata.org/pandas-docs/stable/user_guide/indexing.html#returning-a-view-versus-a-copy\n",
      "  df_te['trend_seasonal']=m.predict(Xt)\n"
     ]
    }
   ],
   "source": [
    "df_te['trend_seasonal']=m.predict(Xt)"
   ]
  },
  {
   "cell_type": "code",
   "execution_count": 67,
   "id": "b98f9a8b",
   "metadata": {},
   "outputs": [
    {
     "name": "stderr",
     "output_type": "stream",
     "text": [
      "<ipython-input-67-cb3aa29693bf>:1: SettingWithCopyWarning: \n",
      "A value is trying to be set on a copy of a slice from a DataFrame.\n",
      "Try using .loc[row_indexer,col_indexer] = value instead\n",
      "\n",
      "See the caveats in the documentation: https://pandas.pydata.org/pandas-docs/stable/user_guide/indexing.html#returning-a-view-versus-a-copy\n",
      "  df_te['remainder']=df_te['TG']-df_te['trend_seasonal']\n"
     ]
    }
   ],
   "source": [
    "df_te['remainder']=df_te['TG']-df_te['trend_seasonal']"
   ]
  },
  {
   "cell_type": "code",
   "execution_count": 68,
   "id": "8754044c",
   "metadata": {},
   "outputs": [
    {
     "name": "stderr",
     "output_type": "stream",
     "text": [
      "<ipython-input-68-a781faa293ff>:2: SettingWithCopyWarning: \n",
      "A value is trying to be set on a copy of a slice from a DataFrame.\n",
      "Try using .loc[row_indexer,col_indexer] = value instead\n",
      "\n",
      "See the caveats in the documentation: https://pandas.pydata.org/pandas-docs/stable/user_guide/indexing.html#returning-a-view-versus-a-copy\n",
      "  df_te['lag1'] = df_te['remainder'].shift(1)\n"
     ]
    }
   ],
   "source": [
    "# Add lag feature — for test data\n",
    "df_te['lag1'] = df_te['remainder'].shift(1)"
   ]
  },
  {
   "cell_type": "code",
   "execution_count": 69,
   "id": "cebbe8cb",
   "metadata": {},
   "outputs": [],
   "source": [
    "df_te_n=df_te.dropna()"
   ]
  },
  {
   "cell_type": "code",
   "execution_count": 70,
   "id": "d1b19ce2",
   "metadata": {},
   "outputs": [],
   "source": [
    " Xtf=df_te_n[['time_step', 'month_1', 'month_2', 'month_3', 'month_4',\n",
    "       'month_5', 'month_6', 'month_7', 'month_8', 'month_9', 'month_10',\n",
    "       'month_11', 'month_12','lag1']]"
   ]
  },
  {
   "cell_type": "code",
   "execution_count": 71,
   "id": "c519fcf2",
   "metadata": {},
   "outputs": [
    {
     "data": {
      "text/html": [
       "<div>\n",
       "<style scoped>\n",
       "    .dataframe tbody tr th:only-of-type {\n",
       "        vertical-align: middle;\n",
       "    }\n",
       "\n",
       "    .dataframe tbody tr th {\n",
       "        vertical-align: top;\n",
       "    }\n",
       "\n",
       "    .dataframe thead th {\n",
       "        text-align: right;\n",
       "    }\n",
       "</style>\n",
       "<table border=\"1\" class=\"dataframe\">\n",
       "  <thead>\n",
       "    <tr style=\"text-align: right;\">\n",
       "      <th></th>\n",
       "      <th>time_step</th>\n",
       "      <th>month_1</th>\n",
       "      <th>month_2</th>\n",
       "      <th>month_3</th>\n",
       "      <th>month_4</th>\n",
       "      <th>month_5</th>\n",
       "      <th>month_6</th>\n",
       "      <th>month_7</th>\n",
       "      <th>month_8</th>\n",
       "      <th>month_9</th>\n",
       "      <th>month_10</th>\n",
       "      <th>month_11</th>\n",
       "      <th>month_12</th>\n",
       "      <th>lag1</th>\n",
       "    </tr>\n",
       "    <tr>\n",
       "      <th>DATE</th>\n",
       "      <th></th>\n",
       "      <th></th>\n",
       "      <th></th>\n",
       "      <th></th>\n",
       "      <th></th>\n",
       "      <th></th>\n",
       "      <th></th>\n",
       "      <th></th>\n",
       "      <th></th>\n",
       "      <th></th>\n",
       "      <th></th>\n",
       "      <th></th>\n",
       "      <th></th>\n",
       "      <th></th>\n",
       "    </tr>\n",
       "  </thead>\n",
       "  <tbody>\n",
       "    <tr>\n",
       "      <th>1994-01-15</th>\n",
       "      <td>42383</td>\n",
       "      <td>1</td>\n",
       "      <td>0</td>\n",
       "      <td>0</td>\n",
       "      <td>0</td>\n",
       "      <td>0</td>\n",
       "      <td>0</td>\n",
       "      <td>0</td>\n",
       "      <td>0</td>\n",
       "      <td>0</td>\n",
       "      <td>0</td>\n",
       "      <td>0</td>\n",
       "      <td>0</td>\n",
       "      <td>62.546760</td>\n",
       "    </tr>\n",
       "    <tr>\n",
       "      <th>1994-01-16</th>\n",
       "      <td>42384</td>\n",
       "      <td>1</td>\n",
       "      <td>0</td>\n",
       "      <td>0</td>\n",
       "      <td>0</td>\n",
       "      <td>0</td>\n",
       "      <td>0</td>\n",
       "      <td>0</td>\n",
       "      <td>0</td>\n",
       "      <td>0</td>\n",
       "      <td>0</td>\n",
       "      <td>0</td>\n",
       "      <td>0</td>\n",
       "      <td>42.546586</td>\n",
       "    </tr>\n",
       "    <tr>\n",
       "      <th>1994-01-17</th>\n",
       "      <td>42385</td>\n",
       "      <td>1</td>\n",
       "      <td>0</td>\n",
       "      <td>0</td>\n",
       "      <td>0</td>\n",
       "      <td>0</td>\n",
       "      <td>0</td>\n",
       "      <td>0</td>\n",
       "      <td>0</td>\n",
       "      <td>0</td>\n",
       "      <td>0</td>\n",
       "      <td>0</td>\n",
       "      <td>0</td>\n",
       "      <td>5.546413</td>\n",
       "    </tr>\n",
       "    <tr>\n",
       "      <th>1994-01-18</th>\n",
       "      <td>42386</td>\n",
       "      <td>1</td>\n",
       "      <td>0</td>\n",
       "      <td>0</td>\n",
       "      <td>0</td>\n",
       "      <td>0</td>\n",
       "      <td>0</td>\n",
       "      <td>0</td>\n",
       "      <td>0</td>\n",
       "      <td>0</td>\n",
       "      <td>0</td>\n",
       "      <td>0</td>\n",
       "      <td>0</td>\n",
       "      <td>-21.453760</td>\n",
       "    </tr>\n",
       "    <tr>\n",
       "      <th>1994-01-19</th>\n",
       "      <td>42387</td>\n",
       "      <td>1</td>\n",
       "      <td>0</td>\n",
       "      <td>0</td>\n",
       "      <td>0</td>\n",
       "      <td>0</td>\n",
       "      <td>0</td>\n",
       "      <td>0</td>\n",
       "      <td>0</td>\n",
       "      <td>0</td>\n",
       "      <td>0</td>\n",
       "      <td>0</td>\n",
       "      <td>0</td>\n",
       "      <td>-1.453934</td>\n",
       "    </tr>\n",
       "    <tr>\n",
       "      <th>...</th>\n",
       "      <td>...</td>\n",
       "      <td>...</td>\n",
       "      <td>...</td>\n",
       "      <td>...</td>\n",
       "      <td>...</td>\n",
       "      <td>...</td>\n",
       "      <td>...</td>\n",
       "      <td>...</td>\n",
       "      <td>...</td>\n",
       "      <td>...</td>\n",
       "      <td>...</td>\n",
       "      <td>...</td>\n",
       "      <td>...</td>\n",
       "      <td>...</td>\n",
       "    </tr>\n",
       "    <tr>\n",
       "      <th>2021-05-27</th>\n",
       "      <td>52377</td>\n",
       "      <td>0</td>\n",
       "      <td>0</td>\n",
       "      <td>0</td>\n",
       "      <td>0</td>\n",
       "      <td>1</td>\n",
       "      <td>0</td>\n",
       "      <td>0</td>\n",
       "      <td>0</td>\n",
       "      <td>0</td>\n",
       "      <td>0</td>\n",
       "      <td>0</td>\n",
       "      <td>0</td>\n",
       "      <td>-18.925959</td>\n",
       "    </tr>\n",
       "    <tr>\n",
       "      <th>2021-05-28</th>\n",
       "      <td>52378</td>\n",
       "      <td>0</td>\n",
       "      <td>0</td>\n",
       "      <td>0</td>\n",
       "      <td>0</td>\n",
       "      <td>1</td>\n",
       "      <td>0</td>\n",
       "      <td>0</td>\n",
       "      <td>0</td>\n",
       "      <td>0</td>\n",
       "      <td>0</td>\n",
       "      <td>0</td>\n",
       "      <td>0</td>\n",
       "      <td>-24.926132</td>\n",
       "    </tr>\n",
       "    <tr>\n",
       "      <th>2021-05-29</th>\n",
       "      <td>52379</td>\n",
       "      <td>0</td>\n",
       "      <td>0</td>\n",
       "      <td>0</td>\n",
       "      <td>0</td>\n",
       "      <td>1</td>\n",
       "      <td>0</td>\n",
       "      <td>0</td>\n",
       "      <td>0</td>\n",
       "      <td>0</td>\n",
       "      <td>0</td>\n",
       "      <td>0</td>\n",
       "      <td>0</td>\n",
       "      <td>-26.926305</td>\n",
       "    </tr>\n",
       "    <tr>\n",
       "      <th>2021-05-30</th>\n",
       "      <td>52380</td>\n",
       "      <td>0</td>\n",
       "      <td>0</td>\n",
       "      <td>0</td>\n",
       "      <td>0</td>\n",
       "      <td>1</td>\n",
       "      <td>0</td>\n",
       "      <td>0</td>\n",
       "      <td>0</td>\n",
       "      <td>0</td>\n",
       "      <td>0</td>\n",
       "      <td>0</td>\n",
       "      <td>0</td>\n",
       "      <td>-17.926479</td>\n",
       "    </tr>\n",
       "    <tr>\n",
       "      <th>2021-05-31</th>\n",
       "      <td>52381</td>\n",
       "      <td>0</td>\n",
       "      <td>0</td>\n",
       "      <td>0</td>\n",
       "      <td>0</td>\n",
       "      <td>1</td>\n",
       "      <td>0</td>\n",
       "      <td>0</td>\n",
       "      <td>0</td>\n",
       "      <td>0</td>\n",
       "      <td>0</td>\n",
       "      <td>0</td>\n",
       "      <td>0</td>\n",
       "      <td>-3.926652</td>\n",
       "    </tr>\n",
       "  </tbody>\n",
       "</table>\n",
       "<p>9999 rows × 14 columns</p>\n",
       "</div>"
      ],
      "text/plain": [
       "            time_step  month_1  month_2  month_3  month_4  month_5  month_6  \\\n",
       "DATE                                                                          \n",
       "1994-01-15      42383        1        0        0        0        0        0   \n",
       "1994-01-16      42384        1        0        0        0        0        0   \n",
       "1994-01-17      42385        1        0        0        0        0        0   \n",
       "1994-01-18      42386        1        0        0        0        0        0   \n",
       "1994-01-19      42387        1        0        0        0        0        0   \n",
       "...               ...      ...      ...      ...      ...      ...      ...   \n",
       "2021-05-27      52377        0        0        0        0        1        0   \n",
       "2021-05-28      52378        0        0        0        0        1        0   \n",
       "2021-05-29      52379        0        0        0        0        1        0   \n",
       "2021-05-30      52380        0        0        0        0        1        0   \n",
       "2021-05-31      52381        0        0        0        0        1        0   \n",
       "\n",
       "            month_7  month_8  month_9  month_10  month_11  month_12       lag1  \n",
       "DATE                                                                            \n",
       "1994-01-15        0        0        0         0         0         0  62.546760  \n",
       "1994-01-16        0        0        0         0         0         0  42.546586  \n",
       "1994-01-17        0        0        0         0         0         0   5.546413  \n",
       "1994-01-18        0        0        0         0         0         0 -21.453760  \n",
       "1994-01-19        0        0        0         0         0         0  -1.453934  \n",
       "...             ...      ...      ...       ...       ...       ...        ...  \n",
       "2021-05-27        0        0        0         0         0         0 -18.925959  \n",
       "2021-05-28        0        0        0         0         0         0 -24.926132  \n",
       "2021-05-29        0        0        0         0         0         0 -26.926305  \n",
       "2021-05-30        0        0        0         0         0         0 -17.926479  \n",
       "2021-05-31        0        0        0         0         0         0  -3.926652  \n",
       "\n",
       "[9999 rows x 14 columns]"
      ]
     },
     "execution_count": 71,
     "metadata": {},
     "output_type": "execute_result"
    }
   ],
   "source": [
    "Xtf"
   ]
  },
  {
   "cell_type": "code",
   "execution_count": 72,
   "id": "ed79f4dd",
   "metadata": {},
   "outputs": [
    {
     "name": "stderr",
     "output_type": "stream",
     "text": [
      "<ipython-input-72-c9aa805b0fe0>:1: SettingWithCopyWarning: \n",
      "A value is trying to be set on a copy of a slice from a DataFrame.\n",
      "Try using .loc[row_indexer,col_indexer] = value instead\n",
      "\n",
      "See the caveats in the documentation: https://pandas.pydata.org/pandas-docs/stable/user_guide/indexing.html#returning-a-view-versus-a-copy\n",
      "  df_te_n['yt_p']=n.predict(Xtf)\n"
     ]
    }
   ],
   "source": [
    "df_te_n['yt_p']=n.predict(Xtf)"
   ]
  },
  {
   "cell_type": "code",
   "execution_count": 73,
   "id": "00079b13",
   "metadata": {},
   "outputs": [
    {
     "data": {
      "text/html": [
       "<div>\n",
       "<style scoped>\n",
       "    .dataframe tbody tr th:only-of-type {\n",
       "        vertical-align: middle;\n",
       "    }\n",
       "\n",
       "    .dataframe tbody tr th {\n",
       "        vertical-align: top;\n",
       "    }\n",
       "\n",
       "    .dataframe thead th {\n",
       "        text-align: right;\n",
       "    }\n",
       "</style>\n",
       "<table border=\"1\" class=\"dataframe\">\n",
       "  <thead>\n",
       "    <tr style=\"text-align: right;\">\n",
       "      <th></th>\n",
       "      <th>TG</th>\n",
       "      <th>time_step</th>\n",
       "      <th>month_1</th>\n",
       "      <th>month_2</th>\n",
       "      <th>month_3</th>\n",
       "      <th>month_4</th>\n",
       "      <th>month_5</th>\n",
       "      <th>month_6</th>\n",
       "      <th>month_7</th>\n",
       "      <th>month_8</th>\n",
       "      <th>month_9</th>\n",
       "      <th>month_10</th>\n",
       "      <th>month_11</th>\n",
       "      <th>month_12</th>\n",
       "      <th>trend_seasonal</th>\n",
       "      <th>remainder</th>\n",
       "      <th>lag1</th>\n",
       "      <th>yt_p</th>\n",
       "    </tr>\n",
       "    <tr>\n",
       "      <th>DATE</th>\n",
       "      <th></th>\n",
       "      <th></th>\n",
       "      <th></th>\n",
       "      <th></th>\n",
       "      <th></th>\n",
       "      <th></th>\n",
       "      <th></th>\n",
       "      <th></th>\n",
       "      <th></th>\n",
       "      <th></th>\n",
       "      <th></th>\n",
       "      <th></th>\n",
       "      <th></th>\n",
       "      <th></th>\n",
       "      <th></th>\n",
       "      <th></th>\n",
       "      <th></th>\n",
       "      <th></th>\n",
       "    </tr>\n",
       "  </thead>\n",
       "  <tbody>\n",
       "    <tr>\n",
       "      <th>1994-01-15</th>\n",
       "      <td>44</td>\n",
       "      <td>42383</td>\n",
       "      <td>1</td>\n",
       "      <td>0</td>\n",
       "      <td>0</td>\n",
       "      <td>0</td>\n",
       "      <td>0</td>\n",
       "      <td>0</td>\n",
       "      <td>0</td>\n",
       "      <td>0</td>\n",
       "      <td>0</td>\n",
       "      <td>0</td>\n",
       "      <td>0</td>\n",
       "      <td>0</td>\n",
       "      <td>1.453414</td>\n",
       "      <td>42.546586</td>\n",
       "      <td>62.546760</td>\n",
       "      <td>51.846726</td>\n",
       "    </tr>\n",
       "    <tr>\n",
       "      <th>1994-01-16</th>\n",
       "      <td>7</td>\n",
       "      <td>42384</td>\n",
       "      <td>1</td>\n",
       "      <td>0</td>\n",
       "      <td>0</td>\n",
       "      <td>0</td>\n",
       "      <td>0</td>\n",
       "      <td>0</td>\n",
       "      <td>0</td>\n",
       "      <td>0</td>\n",
       "      <td>0</td>\n",
       "      <td>0</td>\n",
       "      <td>0</td>\n",
       "      <td>0</td>\n",
       "      <td>1.453587</td>\n",
       "      <td>5.546413</td>\n",
       "      <td>42.546586</td>\n",
       "      <td>35.826832</td>\n",
       "    </tr>\n",
       "    <tr>\n",
       "      <th>1994-01-17</th>\n",
       "      <td>-20</td>\n",
       "      <td>42385</td>\n",
       "      <td>1</td>\n",
       "      <td>0</td>\n",
       "      <td>0</td>\n",
       "      <td>0</td>\n",
       "      <td>0</td>\n",
       "      <td>0</td>\n",
       "      <td>0</td>\n",
       "      <td>0</td>\n",
       "      <td>0</td>\n",
       "      <td>0</td>\n",
       "      <td>0</td>\n",
       "      <td>0</td>\n",
       "      <td>1.453760</td>\n",
       "      <td>-21.453760</td>\n",
       "      <td>5.546413</td>\n",
       "      <td>6.189998</td>\n",
       "    </tr>\n",
       "    <tr>\n",
       "      <th>1994-01-18</th>\n",
       "      <td>0</td>\n",
       "      <td>42386</td>\n",
       "      <td>1</td>\n",
       "      <td>0</td>\n",
       "      <td>0</td>\n",
       "      <td>0</td>\n",
       "      <td>0</td>\n",
       "      <td>0</td>\n",
       "      <td>0</td>\n",
       "      <td>0</td>\n",
       "      <td>0</td>\n",
       "      <td>0</td>\n",
       "      <td>0</td>\n",
       "      <td>0</td>\n",
       "      <td>1.453934</td>\n",
       "      <td>-1.453934</td>\n",
       "      <td>-21.453760</td>\n",
       "      <td>-15.436872</td>\n",
       "    </tr>\n",
       "    <tr>\n",
       "      <th>1994-01-19</th>\n",
       "      <td>21</td>\n",
       "      <td>42387</td>\n",
       "      <td>1</td>\n",
       "      <td>0</td>\n",
       "      <td>0</td>\n",
       "      <td>0</td>\n",
       "      <td>0</td>\n",
       "      <td>0</td>\n",
       "      <td>0</td>\n",
       "      <td>0</td>\n",
       "      <td>0</td>\n",
       "      <td>0</td>\n",
       "      <td>0</td>\n",
       "      <td>0</td>\n",
       "      <td>1.454107</td>\n",
       "      <td>19.545893</td>\n",
       "      <td>-1.453934</td>\n",
       "      <td>0.583092</td>\n",
       "    </tr>\n",
       "    <tr>\n",
       "      <th>...</th>\n",
       "      <td>...</td>\n",
       "      <td>...</td>\n",
       "      <td>...</td>\n",
       "      <td>...</td>\n",
       "      <td>...</td>\n",
       "      <td>...</td>\n",
       "      <td>...</td>\n",
       "      <td>...</td>\n",
       "      <td>...</td>\n",
       "      <td>...</td>\n",
       "      <td>...</td>\n",
       "      <td>...</td>\n",
       "      <td>...</td>\n",
       "      <td>...</td>\n",
       "      <td>...</td>\n",
       "      <td>...</td>\n",
       "      <td>...</td>\n",
       "      <td>...</td>\n",
       "    </tr>\n",
       "    <tr>\n",
       "      <th>2021-05-27</th>\n",
       "      <td>118</td>\n",
       "      <td>52377</td>\n",
       "      <td>0</td>\n",
       "      <td>0</td>\n",
       "      <td>0</td>\n",
       "      <td>0</td>\n",
       "      <td>1</td>\n",
       "      <td>0</td>\n",
       "      <td>0</td>\n",
       "      <td>0</td>\n",
       "      <td>0</td>\n",
       "      <td>0</td>\n",
       "      <td>0</td>\n",
       "      <td>0</td>\n",
       "      <td>142.926132</td>\n",
       "      <td>-24.926132</td>\n",
       "      <td>-18.925959</td>\n",
       "      <td>127.826274</td>\n",
       "    </tr>\n",
       "    <tr>\n",
       "      <th>2021-05-28</th>\n",
       "      <td>116</td>\n",
       "      <td>52378</td>\n",
       "      <td>0</td>\n",
       "      <td>0</td>\n",
       "      <td>0</td>\n",
       "      <td>0</td>\n",
       "      <td>1</td>\n",
       "      <td>0</td>\n",
       "      <td>0</td>\n",
       "      <td>0</td>\n",
       "      <td>0</td>\n",
       "      <td>0</td>\n",
       "      <td>0</td>\n",
       "      <td>0</td>\n",
       "      <td>142.926305</td>\n",
       "      <td>-26.926305</td>\n",
       "      <td>-24.926132</td>\n",
       "      <td>123.020330</td>\n",
       "    </tr>\n",
       "    <tr>\n",
       "      <th>2021-05-29</th>\n",
       "      <td>125</td>\n",
       "      <td>52379</td>\n",
       "      <td>0</td>\n",
       "      <td>0</td>\n",
       "      <td>0</td>\n",
       "      <td>0</td>\n",
       "      <td>1</td>\n",
       "      <td>0</td>\n",
       "      <td>0</td>\n",
       "      <td>0</td>\n",
       "      <td>0</td>\n",
       "      <td>0</td>\n",
       "      <td>0</td>\n",
       "      <td>0</td>\n",
       "      <td>142.926479</td>\n",
       "      <td>-17.926479</td>\n",
       "      <td>-26.926305</td>\n",
       "      <td>121.418372</td>\n",
       "    </tr>\n",
       "    <tr>\n",
       "      <th>2021-05-30</th>\n",
       "      <td>139</td>\n",
       "      <td>52380</td>\n",
       "      <td>0</td>\n",
       "      <td>0</td>\n",
       "      <td>0</td>\n",
       "      <td>0</td>\n",
       "      <td>1</td>\n",
       "      <td>0</td>\n",
       "      <td>0</td>\n",
       "      <td>0</td>\n",
       "      <td>0</td>\n",
       "      <td>0</td>\n",
       "      <td>0</td>\n",
       "      <td>0</td>\n",
       "      <td>142.926652</td>\n",
       "      <td>-3.926652</td>\n",
       "      <td>-17.926479</td>\n",
       "      <td>128.627375</td>\n",
       "    </tr>\n",
       "    <tr>\n",
       "      <th>2021-05-31</th>\n",
       "      <td>147</td>\n",
       "      <td>52381</td>\n",
       "      <td>0</td>\n",
       "      <td>0</td>\n",
       "      <td>0</td>\n",
       "      <td>0</td>\n",
       "      <td>1</td>\n",
       "      <td>0</td>\n",
       "      <td>0</td>\n",
       "      <td>0</td>\n",
       "      <td>0</td>\n",
       "      <td>0</td>\n",
       "      <td>0</td>\n",
       "      <td>0</td>\n",
       "      <td>142.926825</td>\n",
       "      <td>4.073175</td>\n",
       "      <td>-3.926652</td>\n",
       "      <td>139.841361</td>\n",
       "    </tr>\n",
       "  </tbody>\n",
       "</table>\n",
       "<p>9999 rows × 18 columns</p>\n",
       "</div>"
      ],
      "text/plain": [
       "             TG  time_step  month_1  month_2  month_3  month_4  month_5  \\\n",
       "DATE                                                                      \n",
       "1994-01-15   44      42383        1        0        0        0        0   \n",
       "1994-01-16    7      42384        1        0        0        0        0   \n",
       "1994-01-17  -20      42385        1        0        0        0        0   \n",
       "1994-01-18    0      42386        1        0        0        0        0   \n",
       "1994-01-19   21      42387        1        0        0        0        0   \n",
       "...         ...        ...      ...      ...      ...      ...      ...   \n",
       "2021-05-27  118      52377        0        0        0        0        1   \n",
       "2021-05-28  116      52378        0        0        0        0        1   \n",
       "2021-05-29  125      52379        0        0        0        0        1   \n",
       "2021-05-30  139      52380        0        0        0        0        1   \n",
       "2021-05-31  147      52381        0        0        0        0        1   \n",
       "\n",
       "            month_6  month_7  month_8  month_9  month_10  month_11  month_12  \\\n",
       "DATE                                                                           \n",
       "1994-01-15        0        0        0        0         0         0         0   \n",
       "1994-01-16        0        0        0        0         0         0         0   \n",
       "1994-01-17        0        0        0        0         0         0         0   \n",
       "1994-01-18        0        0        0        0         0         0         0   \n",
       "1994-01-19        0        0        0        0         0         0         0   \n",
       "...             ...      ...      ...      ...       ...       ...       ...   \n",
       "2021-05-27        0        0        0        0         0         0         0   \n",
       "2021-05-28        0        0        0        0         0         0         0   \n",
       "2021-05-29        0        0        0        0         0         0         0   \n",
       "2021-05-30        0        0        0        0         0         0         0   \n",
       "2021-05-31        0        0        0        0         0         0         0   \n",
       "\n",
       "            trend_seasonal  remainder       lag1        yt_p  \n",
       "DATE                                                          \n",
       "1994-01-15        1.453414  42.546586  62.546760   51.846726  \n",
       "1994-01-16        1.453587   5.546413  42.546586   35.826832  \n",
       "1994-01-17        1.453760 -21.453760   5.546413    6.189998  \n",
       "1994-01-18        1.453934  -1.453934 -21.453760  -15.436872  \n",
       "1994-01-19        1.454107  19.545893  -1.453934    0.583092  \n",
       "...                    ...        ...        ...         ...  \n",
       "2021-05-27      142.926132 -24.926132 -18.925959  127.826274  \n",
       "2021-05-28      142.926305 -26.926305 -24.926132  123.020330  \n",
       "2021-05-29      142.926479 -17.926479 -26.926305  121.418372  \n",
       "2021-05-30      142.926652  -3.926652 -17.926479  128.627375  \n",
       "2021-05-31      142.926825   4.073175  -3.926652  139.841361  \n",
       "\n",
       "[9999 rows x 18 columns]"
      ]
     },
     "execution_count": 73,
     "metadata": {},
     "output_type": "execute_result"
    }
   ],
   "source": [
    "df_te_n"
   ]
  },
  {
   "cell_type": "markdown",
   "id": "f00ed02c",
   "metadata": {},
   "source": [
    "R2 score on test data"
   ]
  },
  {
   "cell_type": "code",
   "execution_count": 74,
   "id": "51c36946",
   "metadata": {},
   "outputs": [
    {
     "data": {
      "text/plain": [
       "0.9148695723862207"
      ]
     },
     "execution_count": 74,
     "metadata": {},
     "output_type": "execute_result"
    }
   ],
   "source": [
    "\n",
    "n.score(Xtf,df_te_n['TG'])"
   ]
  },
  {
   "cell_type": "code",
   "execution_count": 75,
   "id": "0d0e976b",
   "metadata": {},
   "outputs": [
    {
     "data": {
      "text/plain": [
       "array([ 1.73696582e-04, -9.31447112e+01, -8.49102080e+01, -5.15474315e+01,\n",
       "       -6.25351746e+00,  4.63582726e+01,  7.96738937e+01,  9.57966496e+01,\n",
       "        8.76195817e+01,  5.15788921e+01,  1.61761900e+00, -4.75277797e+01,\n",
       "       -7.92612608e+01,  8.00996465e-01])"
      ]
     },
     "execution_count": 75,
     "metadata": {},
     "output_type": "execute_result"
    }
   ],
   "source": [
    "n.coef_"
   ]
  },
  {
   "cell_type": "code",
   "execution_count": null,
   "id": "f7b910cd",
   "metadata": {},
   "outputs": [],
   "source": []
  },
  {
   "cell_type": "code",
   "execution_count": 76,
   "id": "02c7c9b9",
   "metadata": {},
   "outputs": [
    {
     "data": {
      "text/plain": [
       "87.52992181589006"
      ]
     },
     "execution_count": 76,
     "metadata": {},
     "output_type": "execute_result"
    }
   ],
   "source": [
    "n.intercept_"
   ]
  },
  {
   "cell_type": "code",
   "execution_count": 215,
   "id": "df4fa80b",
   "metadata": {},
   "outputs": [
    {
     "data": {
      "text/plain": [
       "<matplotlib.legend.Legend at 0x7f6e64a64c10>"
      ]
     },
     "execution_count": 215,
     "metadata": {},
     "output_type": "execute_result"
    },
    {
     "data": {
      "image/png": "[encoded data removed]",
      "text/plain": [
       "<Figure size 864x432 with 1 Axes>"
      ]
     },
     "metadata": {
      "needs_background": "light"
     },
     "output_type": "display_data"
    }
   ],
   "source": [
    "#df_te_n[df_te_n.index>'2020'][['TG','yt_p']].plot()\n",
    "\n",
    "\n",
    "\n",
    "y1=df_te_n[df_te_n.index>'2020']['yt_p']\n",
    "y2=df_te_n[df_te_n.index>'2020']['TG']\n",
    "x=df_te_n[df_te_n.index>'2020'].index\n",
    "plt.plot(x, y1, label='prediction')\n",
    "plt.plot(x, y2, label='observation')\n",
    "plt.xlabel('Date')\n",
    "plt.ylabel('Temperature ℃*10')\n",
    "plt.title('2020-2021 daily temperature vs trend-season-lag1-model prediction in Berlin Tempelhof', fontsize = 15,color='blue')\n",
    "plt.legend()\n",
    "\n"
   ]
  },
  {
   "cell_type": "markdown",
   "id": "ada078f8",
   "metadata": {},
   "source": [
    "## Combine the train set and test set of data and retrain the model\n"
   ]
  },
  {
   "cell_type": "code",
   "execution_count": 78,
   "id": "83d72550",
   "metadata": {},
   "outputs": [
    {
     "data": {
      "text/plain": [
       "Index(['TG', 'time_step', 'month_1', 'month_2', 'month_3', 'month_4',\n",
       "       'month_5', 'month_6', 'month_7', 'month_8', 'month_9', 'month_10',\n",
       "       'month_11', 'month_12', 'y_p', 'remainder', 'lag1'],\n",
       "      dtype='object')"
      ]
     },
     "execution_count": 78,
     "metadata": {},
     "output_type": "execute_result"
    }
   ],
   "source": [
    "df_tr.columns"
   ]
  },
  {
   "cell_type": "code",
   "execution_count": 79,
   "id": "dd42d34f",
   "metadata": {},
   "outputs": [
    {
     "data": {
      "text/plain": [
       "Index(['TG', 'time_step', 'month_1', 'month_2', 'month_3', 'month_4',\n",
       "       'month_5', 'month_6', 'month_7', 'month_8', 'month_9', 'month_10',\n",
       "       'month_11', 'month_12', 'trend_seasonal', 'remainder', 'lag1'],\n",
       "      dtype='object')"
      ]
     },
     "execution_count": 79,
     "metadata": {},
     "output_type": "execute_result"
    }
   ],
   "source": [
    "df_te.columns"
   ]
  },
  {
   "cell_type": "code",
   "execution_count": 80,
   "id": "ab01717b",
   "metadata": {},
   "outputs": [
    {
     "name": "stderr",
     "output_type": "stream",
     "text": [
      "/home/baodong/anaconda3/lib/python3.8/site-packages/pandas/core/frame.py:4441: SettingWithCopyWarning: \n",
      "A value is trying to be set on a copy of a slice from a DataFrame\n",
      "\n",
      "See the caveats in the documentation: https://pandas.pydata.org/pandas-docs/stable/user_guide/indexing.html#returning-a-view-versus-a-copy\n",
      "  return super().rename(\n"
     ]
    }
   ],
   "source": [
    "df_tr.rename(columns={'y_p':'trend_seasonal'},inplace=True)"
   ]
  },
  {
   "cell_type": "code",
   "execution_count": 81,
   "id": "a877a455",
   "metadata": {},
   "outputs": [],
   "source": [
    "#combine the dataset"
   ]
  },
  {
   "cell_type": "code",
   "execution_count": 82,
   "id": "537830c6",
   "metadata": {},
   "outputs": [],
   "source": [
    "df_combined=df_tr.append(df_te)"
   ]
  },
  {
   "cell_type": "code",
   "execution_count": 83,
   "id": "78f2509c",
   "metadata": {},
   "outputs": [
    {
     "data": {
      "text/plain": [
       "Index(['TG', 'time_step', 'month_1', 'month_2', 'month_3', 'month_4',\n",
       "       'month_5', 'month_6', 'month_7', 'month_8', 'month_9', 'month_10',\n",
       "       'month_11', 'month_12', 'trend_seasonal', 'remainder', 'lag1'],\n",
       "      dtype='object')"
      ]
     },
     "execution_count": 83,
     "metadata": {},
     "output_type": "execute_result"
    }
   ],
   "source": [
    "df_combined.columns"
   ]
  },
  {
   "cell_type": "code",
   "execution_count": 84,
   "id": "2e160864",
   "metadata": {},
   "outputs": [],
   "source": [
    "df_combined.dropna(inplace=True)"
   ]
  },
  {
   "cell_type": "code",
   "execution_count": 85,
   "id": "204dc661",
   "metadata": {},
   "outputs": [],
   "source": [
    "# Re-train the model on the whole dataset\n",
    "X_combined = df_combined[['time_step', 'month_1', 'month_2', 'month_3', 'month_4',\n",
    "       'month_5', 'month_6', 'month_7', 'month_8', 'month_9', 'month_10',\n",
    "       'month_11', 'month_12', 'lag1']]\n",
    "y_combined = df_combined['TG']"
   ]
  },
  {
   "cell_type": "code",
   "execution_count": 86,
   "id": "b26f944a",
   "metadata": {},
   "outputs": [
    {
     "data": {
      "text/plain": [
       "LinearRegression()"
      ]
     },
     "execution_count": 86,
     "metadata": {},
     "output_type": "execute_result"
    }
   ],
   "source": [
    "m_combined = LinearRegression()\n",
    "m_combined.fit(X_combined, y_combined)"
   ]
  },
  {
   "cell_type": "code",
   "execution_count": 87,
   "id": "d93cdb97",
   "metadata": {},
   "outputs": [
    {
     "data": {
      "text/html": [
       "<div>\n",
       "<style scoped>\n",
       "    .dataframe tbody tr th:only-of-type {\n",
       "        vertical-align: middle;\n",
       "    }\n",
       "\n",
       "    .dataframe tbody tr th {\n",
       "        vertical-align: top;\n",
       "    }\n",
       "\n",
       "    .dataframe thead th {\n",
       "        text-align: right;\n",
       "    }\n",
       "</style>\n",
       "<table border=\"1\" class=\"dataframe\">\n",
       "  <thead>\n",
       "    <tr style=\"text-align: right;\">\n",
       "      <th></th>\n",
       "      <th>TG</th>\n",
       "      <th>time_step</th>\n",
       "      <th>month_1</th>\n",
       "      <th>month_2</th>\n",
       "      <th>month_3</th>\n",
       "      <th>month_4</th>\n",
       "      <th>month_5</th>\n",
       "      <th>month_6</th>\n",
       "      <th>month_7</th>\n",
       "      <th>month_8</th>\n",
       "      <th>month_9</th>\n",
       "      <th>month_10</th>\n",
       "      <th>month_11</th>\n",
       "      <th>month_12</th>\n",
       "      <th>trend_seasonal</th>\n",
       "      <th>remainder</th>\n",
       "      <th>lag1</th>\n",
       "    </tr>\n",
       "    <tr>\n",
       "      <th>DATE</th>\n",
       "      <th></th>\n",
       "      <th></th>\n",
       "      <th></th>\n",
       "      <th></th>\n",
       "      <th></th>\n",
       "      <th></th>\n",
       "      <th></th>\n",
       "      <th></th>\n",
       "      <th></th>\n",
       "      <th></th>\n",
       "      <th></th>\n",
       "      <th></th>\n",
       "      <th></th>\n",
       "      <th></th>\n",
       "      <th></th>\n",
       "      <th></th>\n",
       "      <th></th>\n",
       "    </tr>\n",
       "  </thead>\n",
       "  <tbody>\n",
       "    <tr>\n",
       "      <th>1876-01-03</th>\n",
       "      <td>3</td>\n",
       "      <td>2</td>\n",
       "      <td>1</td>\n",
       "      <td>0</td>\n",
       "      <td>0</td>\n",
       "      <td>0</td>\n",
       "      <td>0</td>\n",
       "      <td>0</td>\n",
       "      <td>0</td>\n",
       "      <td>0</td>\n",
       "      <td>0</td>\n",
       "      <td>0</td>\n",
       "      <td>0</td>\n",
       "      <td>0</td>\n",
       "      <td>-5.892331</td>\n",
       "      <td>8.892331</td>\n",
       "      <td>27.892678</td>\n",
       "    </tr>\n",
       "    <tr>\n",
       "      <th>1876-01-04</th>\n",
       "      <td>-58</td>\n",
       "      <td>3</td>\n",
       "      <td>1</td>\n",
       "      <td>0</td>\n",
       "      <td>0</td>\n",
       "      <td>0</td>\n",
       "      <td>0</td>\n",
       "      <td>0</td>\n",
       "      <td>0</td>\n",
       "      <td>0</td>\n",
       "      <td>0</td>\n",
       "      <td>0</td>\n",
       "      <td>0</td>\n",
       "      <td>0</td>\n",
       "      <td>-5.892158</td>\n",
       "      <td>-52.107842</td>\n",
       "      <td>8.892331</td>\n",
       "    </tr>\n",
       "    <tr>\n",
       "      <th>1876-01-05</th>\n",
       "      <td>-98</td>\n",
       "      <td>4</td>\n",
       "      <td>1</td>\n",
       "      <td>0</td>\n",
       "      <td>0</td>\n",
       "      <td>0</td>\n",
       "      <td>0</td>\n",
       "      <td>0</td>\n",
       "      <td>0</td>\n",
       "      <td>0</td>\n",
       "      <td>0</td>\n",
       "      <td>0</td>\n",
       "      <td>0</td>\n",
       "      <td>0</td>\n",
       "      <td>-5.891984</td>\n",
       "      <td>-92.108016</td>\n",
       "      <td>-52.107842</td>\n",
       "    </tr>\n",
       "    <tr>\n",
       "      <th>1876-01-06</th>\n",
       "      <td>-77</td>\n",
       "      <td>5</td>\n",
       "      <td>1</td>\n",
       "      <td>0</td>\n",
       "      <td>0</td>\n",
       "      <td>0</td>\n",
       "      <td>0</td>\n",
       "      <td>0</td>\n",
       "      <td>0</td>\n",
       "      <td>0</td>\n",
       "      <td>0</td>\n",
       "      <td>0</td>\n",
       "      <td>0</td>\n",
       "      <td>0</td>\n",
       "      <td>-5.891811</td>\n",
       "      <td>-71.108189</td>\n",
       "      <td>-92.108016</td>\n",
       "    </tr>\n",
       "    <tr>\n",
       "      <th>1876-01-07</th>\n",
       "      <td>-66</td>\n",
       "      <td>6</td>\n",
       "      <td>1</td>\n",
       "      <td>0</td>\n",
       "      <td>0</td>\n",
       "      <td>0</td>\n",
       "      <td>0</td>\n",
       "      <td>0</td>\n",
       "      <td>0</td>\n",
       "      <td>0</td>\n",
       "      <td>0</td>\n",
       "      <td>0</td>\n",
       "      <td>0</td>\n",
       "      <td>0</td>\n",
       "      <td>-5.891638</td>\n",
       "      <td>-60.108362</td>\n",
       "      <td>-71.108189</td>\n",
       "    </tr>\n",
       "    <tr>\n",
       "      <th>...</th>\n",
       "      <td>...</td>\n",
       "      <td>...</td>\n",
       "      <td>...</td>\n",
       "      <td>...</td>\n",
       "      <td>...</td>\n",
       "      <td>...</td>\n",
       "      <td>...</td>\n",
       "      <td>...</td>\n",
       "      <td>...</td>\n",
       "      <td>...</td>\n",
       "      <td>...</td>\n",
       "      <td>...</td>\n",
       "      <td>...</td>\n",
       "      <td>...</td>\n",
       "      <td>...</td>\n",
       "      <td>...</td>\n",
       "      <td>...</td>\n",
       "    </tr>\n",
       "    <tr>\n",
       "      <th>2021-05-27</th>\n",
       "      <td>118</td>\n",
       "      <td>52377</td>\n",
       "      <td>0</td>\n",
       "      <td>0</td>\n",
       "      <td>0</td>\n",
       "      <td>0</td>\n",
       "      <td>1</td>\n",
       "      <td>0</td>\n",
       "      <td>0</td>\n",
       "      <td>0</td>\n",
       "      <td>0</td>\n",
       "      <td>0</td>\n",
       "      <td>0</td>\n",
       "      <td>0</td>\n",
       "      <td>142.926132</td>\n",
       "      <td>-24.926132</td>\n",
       "      <td>-18.925959</td>\n",
       "    </tr>\n",
       "    <tr>\n",
       "      <th>2021-05-28</th>\n",
       "      <td>116</td>\n",
       "      <td>52378</td>\n",
       "      <td>0</td>\n",
       "      <td>0</td>\n",
       "      <td>0</td>\n",
       "      <td>0</td>\n",
       "      <td>1</td>\n",
       "      <td>0</td>\n",
       "      <td>0</td>\n",
       "      <td>0</td>\n",
       "      <td>0</td>\n",
       "      <td>0</td>\n",
       "      <td>0</td>\n",
       "      <td>0</td>\n",
       "      <td>142.926305</td>\n",
       "      <td>-26.926305</td>\n",
       "      <td>-24.926132</td>\n",
       "    </tr>\n",
       "    <tr>\n",
       "      <th>2021-05-29</th>\n",
       "      <td>125</td>\n",
       "      <td>52379</td>\n",
       "      <td>0</td>\n",
       "      <td>0</td>\n",
       "      <td>0</td>\n",
       "      <td>0</td>\n",
       "      <td>1</td>\n",
       "      <td>0</td>\n",
       "      <td>0</td>\n",
       "      <td>0</td>\n",
       "      <td>0</td>\n",
       "      <td>0</td>\n",
       "      <td>0</td>\n",
       "      <td>0</td>\n",
       "      <td>142.926479</td>\n",
       "      <td>-17.926479</td>\n",
       "      <td>-26.926305</td>\n",
       "    </tr>\n",
       "    <tr>\n",
       "      <th>2021-05-30</th>\n",
       "      <td>139</td>\n",
       "      <td>52380</td>\n",
       "      <td>0</td>\n",
       "      <td>0</td>\n",
       "      <td>0</td>\n",
       "      <td>0</td>\n",
       "      <td>1</td>\n",
       "      <td>0</td>\n",
       "      <td>0</td>\n",
       "      <td>0</td>\n",
       "      <td>0</td>\n",
       "      <td>0</td>\n",
       "      <td>0</td>\n",
       "      <td>0</td>\n",
       "      <td>142.926652</td>\n",
       "      <td>-3.926652</td>\n",
       "      <td>-17.926479</td>\n",
       "    </tr>\n",
       "    <tr>\n",
       "      <th>2021-05-31</th>\n",
       "      <td>147</td>\n",
       "      <td>52381</td>\n",
       "      <td>0</td>\n",
       "      <td>0</td>\n",
       "      <td>0</td>\n",
       "      <td>0</td>\n",
       "      <td>1</td>\n",
       "      <td>0</td>\n",
       "      <td>0</td>\n",
       "      <td>0</td>\n",
       "      <td>0</td>\n",
       "      <td>0</td>\n",
       "      <td>0</td>\n",
       "      <td>0</td>\n",
       "      <td>142.926825</td>\n",
       "      <td>4.073175</td>\n",
       "      <td>-3.926652</td>\n",
       "    </tr>\n",
       "  </tbody>\n",
       "</table>\n",
       "<p>52379 rows × 17 columns</p>\n",
       "</div>"
      ],
      "text/plain": [
       "             TG  time_step  month_1  month_2  month_3  month_4  month_5  \\\n",
       "DATE                                                                      \n",
       "1876-01-03    3          2        1        0        0        0        0   \n",
       "1876-01-04  -58          3        1        0        0        0        0   \n",
       "1876-01-05  -98          4        1        0        0        0        0   \n",
       "1876-01-06  -77          5        1        0        0        0        0   \n",
       "1876-01-07  -66          6        1        0        0        0        0   \n",
       "...         ...        ...      ...      ...      ...      ...      ...   \n",
       "2021-05-27  118      52377        0        0        0        0        1   \n",
       "2021-05-28  116      52378        0        0        0        0        1   \n",
       "2021-05-29  125      52379        0        0        0        0        1   \n",
       "2021-05-30  139      52380        0        0        0        0        1   \n",
       "2021-05-31  147      52381        0        0        0        0        1   \n",
       "\n",
       "            month_6  month_7  month_8  month_9  month_10  month_11  month_12  \\\n",
       "DATE                                                                           \n",
       "1876-01-03        0        0        0        0         0         0         0   \n",
       "1876-01-04        0        0        0        0         0         0         0   \n",
       "1876-01-05        0        0        0        0         0         0         0   \n",
       "1876-01-06        0        0        0        0         0         0         0   \n",
       "1876-01-07        0        0        0        0         0         0         0   \n",
       "...             ...      ...      ...      ...       ...       ...       ...   \n",
       "2021-05-27        0        0        0        0         0         0         0   \n",
       "2021-05-28        0        0        0        0         0         0         0   \n",
       "2021-05-29        0        0        0        0         0         0         0   \n",
       "2021-05-30        0        0        0        0         0         0         0   \n",
       "2021-05-31        0        0        0        0         0         0         0   \n",
       "\n",
       "            trend_seasonal  remainder       lag1  \n",
       "DATE                                              \n",
       "1876-01-03       -5.892331   8.892331  27.892678  \n",
       "1876-01-04       -5.892158 -52.107842   8.892331  \n",
       "1876-01-05       -5.891984 -92.108016 -52.107842  \n",
       "1876-01-06       -5.891811 -71.108189 -92.108016  \n",
       "1876-01-07       -5.891638 -60.108362 -71.108189  \n",
       "...                    ...        ...        ...  \n",
       "2021-05-27      142.926132 -24.926132 -18.925959  \n",
       "2021-05-28      142.926305 -26.926305 -24.926132  \n",
       "2021-05-29      142.926479 -17.926479 -26.926305  \n",
       "2021-05-30      142.926652  -3.926652 -17.926479  \n",
       "2021-05-31      142.926825   4.073175  -3.926652  \n",
       "\n",
       "[52379 rows x 17 columns]"
      ]
     },
     "execution_count": 87,
     "metadata": {},
     "output_type": "execute_result"
    }
   ],
   "source": [
    "df_combined"
   ]
  },
  {
   "cell_type": "markdown",
   "id": "12028b23",
   "metadata": {},
   "source": [
    "# predict the temperature of future which not contained in our data set (2021-6-1)"
   ]
  },
  {
   "cell_type": "code",
   "execution_count": 88,
   "id": "eb71a473",
   "metadata": {},
   "outputs": [],
   "source": [
    "time_step = df_combined['time_step'].max() + 1\n",
    "# lag for the new datapoint/row is the remainder in the last row of the combined dataset\n",
    "lag = df_combined.loc['2021-05-31', 'remainder']\n"
   ]
  },
  {
   "cell_type": "code",
   "execution_count": 89,
   "id": "bd89d139",
   "metadata": {},
   "outputs": [],
   "source": [
    "#get the month dummies for 2021-06-01. we take the dummies feature from 2020-06-01\n",
    "month=df_combined.loc['2020-6-1'][2:14].values.tolist()\n"
   ]
  },
  {
   "cell_type": "code",
   "execution_count": null,
   "id": "4628d635",
   "metadata": {},
   "outputs": [],
   "source": []
  },
  {
   "cell_type": "code",
   "execution_count": null,
   "id": "ae99539c",
   "metadata": {},
   "outputs": [],
   "source": []
  },
  {
   "cell_type": "code",
   "execution_count": null,
   "id": "5aeb0fdf",
   "metadata": {},
   "outputs": [],
   "source": []
  },
  {
   "cell_type": "code",
   "execution_count": 90,
   "id": "6015c341",
   "metadata": {},
   "outputs": [],
   "source": [
    "# Create a future data point\n",
    "X_future1 = []\n",
    "X_future1.append(time_step)\n",
    "X_future1.extend(month)\n",
    "X_future1.append(lag)\n"
   ]
  },
  {
   "cell_type": "code",
   "execution_count": 91,
   "id": "d5ffef2d",
   "metadata": {},
   "outputs": [
    {
     "data": {
      "text/plain": [
       "[52382,\n",
       " 0.0,\n",
       " 0.0,\n",
       " 0.0,\n",
       " 0.0,\n",
       " 0.0,\n",
       " 1.0,\n",
       " 0.0,\n",
       " 0.0,\n",
       " 0.0,\n",
       " 0.0,\n",
       " 0.0,\n",
       " 0.0,\n",
       " 4.073174655967591]"
      ]
     },
     "execution_count": 91,
     "metadata": {},
     "output_type": "execute_result"
    }
   ],
   "source": [
    "X_future1"
   ]
  },
  {
   "cell_type": "code",
   "execution_count": 92,
   "id": "96148679",
   "metadata": {},
   "outputs": [],
   "source": [
    "X_future1 = pd.DataFrame([X_future1], columns = X_combined.columns)"
   ]
  },
  {
   "cell_type": "code",
   "execution_count": 93,
   "id": "34c8bdc9",
   "metadata": {},
   "outputs": [
    {
     "data": {
      "text/html": [
       "<div>\n",
       "<style scoped>\n",
       "    .dataframe tbody tr th:only-of-type {\n",
       "        vertical-align: middle;\n",
       "    }\n",
       "\n",
       "    .dataframe tbody tr th {\n",
       "        vertical-align: top;\n",
       "    }\n",
       "\n",
       "    .dataframe thead th {\n",
       "        text-align: right;\n",
       "    }\n",
       "</style>\n",
       "<table border=\"1\" class=\"dataframe\">\n",
       "  <thead>\n",
       "    <tr style=\"text-align: right;\">\n",
       "      <th></th>\n",
       "      <th>time_step</th>\n",
       "      <th>month_1</th>\n",
       "      <th>month_2</th>\n",
       "      <th>month_3</th>\n",
       "      <th>month_4</th>\n",
       "      <th>month_5</th>\n",
       "      <th>month_6</th>\n",
       "      <th>month_7</th>\n",
       "      <th>month_8</th>\n",
       "      <th>month_9</th>\n",
       "      <th>month_10</th>\n",
       "      <th>month_11</th>\n",
       "      <th>month_12</th>\n",
       "      <th>lag1</th>\n",
       "    </tr>\n",
       "  </thead>\n",
       "  <tbody>\n",
       "    <tr>\n",
       "      <th>0</th>\n",
       "      <td>52382</td>\n",
       "      <td>0.0</td>\n",
       "      <td>0.0</td>\n",
       "      <td>0.0</td>\n",
       "      <td>0.0</td>\n",
       "      <td>0.0</td>\n",
       "      <td>1.0</td>\n",
       "      <td>0.0</td>\n",
       "      <td>0.0</td>\n",
       "      <td>0.0</td>\n",
       "      <td>0.0</td>\n",
       "      <td>0.0</td>\n",
       "      <td>0.0</td>\n",
       "      <td>4.073175</td>\n",
       "    </tr>\n",
       "  </tbody>\n",
       "</table>\n",
       "</div>"
      ],
      "text/plain": [
       "   time_step  month_1  month_2  month_3  month_4  month_5  month_6  month_7  \\\n",
       "0      52382      0.0      0.0      0.0      0.0      0.0      1.0      0.0   \n",
       "\n",
       "   month_8  month_9  month_10  month_11  month_12      lag1  \n",
       "0      0.0      0.0       0.0       0.0       0.0  4.073175  "
      ]
     },
     "execution_count": 93,
     "metadata": {},
     "output_type": "execute_result"
    }
   ],
   "source": [
    "X_future1"
   ]
  },
  {
   "cell_type": "code",
   "execution_count": 94,
   "id": "5ff22381",
   "metadata": {},
   "outputs": [
    {
     "data": {
      "text/plain": [
       "array([180.58370787])"
      ]
     },
     "execution_count": 94,
     "metadata": {},
     "output_type": "execute_result"
    }
   ],
   "source": [
    "m_combined.predict(X_future1)"
   ]
  },
  {
   "cell_type": "code",
   "execution_count": null,
   "id": "28f721a0",
   "metadata": {},
   "outputs": [],
   "source": []
  },
  {
   "cell_type": "code",
   "execution_count": null,
   "id": "fb217e44",
   "metadata": {},
   "outputs": [],
   "source": []
  },
  {
   "cell_type": "code",
   "execution_count": null,
   "id": "84c0890d",
   "metadata": {},
   "outputs": [],
   "source": []
  },
  {
   "cell_type": "code",
   "execution_count": null,
   "id": "6744fd5c",
   "metadata": {},
   "outputs": [],
   "source": []
  },
  {
   "cell_type": "code",
   "execution_count": null,
   "id": "a342cdaf",
   "metadata": {},
   "outputs": [],
   "source": []
  },
  {
   "cell_type": "code",
   "execution_count": null,
   "id": "c0fa75bc",
   "metadata": {},
   "outputs": [],
   "source": []
  },
  {
   "cell_type": "code",
   "execution_count": null,
   "id": "0e5ca1be",
   "metadata": {},
   "outputs": [],
   "source": []
  },
  {
   "cell_type": "code",
   "execution_count": null,
   "id": "11e3e40f",
   "metadata": {},
   "outputs": [],
   "source": []
  },
  {
   "cell_type": "code",
   "execution_count": 95,
   "id": "d89fdfca",
   "metadata": {},
   "outputs": [],
   "source": [
    "#!pip install pmdarima"
   ]
  },
  {
   "cell_type": "code",
   "execution_count": 181,
   "id": "94bcdd1b",
   "metadata": {},
   "outputs": [],
   "source": [
    "import statsmodels\n",
    "from statsmodels.tsa import stattools\n",
    "from statsmodels.graphics.tsaplots import plot_pacf , plot_acf\n",
    "from statsmodels.tsa.ar_model import AutoReg, ar_select_order\n",
    "from statsmodels.tsa.arima.model import ARIMA\n",
    "#from pmdarima.arima import auto_arima"
   ]
  },
  {
   "cell_type": "code",
   "execution_count": 216,
   "id": "749d4031",
   "metadata": {},
   "outputs": [
    {
     "data": {
      "image/png": "[encoded data removed]",
      "text/plain": [
       "<Figure size 864x432 with 1 Axes>"
      ]
     },
     "execution_count": 216,
     "metadata": {},
     "output_type": "execute_result"
    },
    {
     "data": {
      "image/png": "[encoded data removed]",
      "text/plain": [
       "<Figure size 864x432 with 1 Axes>"
      ]
     },
     "metadata": {
      "needs_background": "light"
     },
     "output_type": "display_data"
    },
    {
     "data": {
      "image/png": "[encoded data removed]",
      "text/plain": [
       "<Figure size 864x432 with 1 Axes>"
      ]
     },
     "metadata": {
      "needs_background": "light"
     },
     "output_type": "display_data"
    }
   ],
   "source": [
    "plot_acf(df_tr['remainder'])\n",
    "plot_pacf(df_tr['remainder'])"
   ]
  },
  {
   "cell_type": "code",
   "execution_count": 98,
   "id": "47eff51b",
   "metadata": {},
   "outputs": [
    {
     "name": "stderr",
     "output_type": "stream",
     "text": [
      "/home/baodong/anaconda3/lib/python3.8/site-packages/statsmodels/tsa/base/tsa_model.py:581: ValueWarning: A date index has been provided, but it has no associated frequency information and so will be ignored when e.g. forecasting.\n",
      "  warnings.warn('A date index has been provided, but it has no'\n",
      "/home/baodong/anaconda3/lib/python3.8/site-packages/statsmodels/tsa/base/tsa_model.py:581: ValueWarning: A date index has been provided, but it has no associated frequency information and so will be ignored when e.g. forecasting.\n",
      "  warnings.warn('A date index has been provided, but it has no'\n"
     ]
    }
   ],
   "source": [
    "# Use ar_select_order\n",
    "order=ar_select_order(df_tr['remainder'], maxlag=20, old_names=False)"
   ]
  },
  {
   "cell_type": "code",
   "execution_count": 99,
   "id": "efbe8478",
   "metadata": {},
   "outputs": [
    {
     "data": {
      "text/plain": [
       "array([1, 2, 3])"
      ]
     },
     "execution_count": 99,
     "metadata": {},
     "output_type": "execute_result"
    }
   ],
   "source": [
    "order.ar_lags"
   ]
  },
  {
   "cell_type": "code",
   "execution_count": 100,
   "id": "6742c0c1",
   "metadata": {},
   "outputs": [
    {
     "data": {
      "text/plain": [
       "DATE\n",
       "1876-01-01    27.892678\n",
       "1876-01-03     8.892331\n",
       "1876-01-04   -52.107842\n",
       "1876-01-05   -92.108016\n",
       "1876-01-06   -71.108189\n",
       "                ...    \n",
       "1994-01-09    12.547626\n",
       "1994-01-10    20.547453\n",
       "1994-01-11    22.547280\n",
       "1994-01-12    60.547106\n",
       "1994-01-13    86.546933\n",
       "Name: remainder, Length: 42381, dtype: float64"
      ]
     },
     "execution_count": 100,
     "metadata": {},
     "output_type": "execute_result"
    }
   ],
   "source": [
    "df_tr['remainder']"
   ]
  },
  {
   "cell_type": "code",
   "execution_count": 101,
   "id": "9edf1eb5",
   "metadata": {},
   "outputs": [
    {
     "data": {
      "text/plain": [
       "Index(['TG', 'time_step', 'month_1', 'month_2', 'month_3', 'month_4',\n",
       "       'month_5', 'month_6', 'month_7', 'month_8', 'month_9', 'month_10',\n",
       "       'month_11', 'month_12', 'trend_seasonal', 'remainder', 'lag1'],\n",
       "      dtype='object')"
      ]
     },
     "execution_count": 101,
     "metadata": {},
     "output_type": "execute_result"
    }
   ],
   "source": [
    "df_tr.columns\n"
   ]
  },
  {
   "cell_type": "code",
   "execution_count": 185,
   "id": "4102a41f",
   "metadata": {},
   "outputs": [],
   "source": [
    "df_trnnn=df_tr[['TG']] "
   ]
  },
  {
   "cell_type": "code",
   "execution_count": 186,
   "id": "17a583d3",
   "metadata": {},
   "outputs": [],
   "source": [
    "df_trnnn.index = pd.DatetimeIndex(df_trnnn.index).to_period('D')"
   ]
  },
  {
   "cell_type": "code",
   "execution_count": 187,
   "id": "bf1c6332",
   "metadata": {},
   "outputs": [
    {
     "data": {
      "text/html": [
       "<div>\n",
       "<style scoped>\n",
       "    .dataframe tbody tr th:only-of-type {\n",
       "        vertical-align: middle;\n",
       "    }\n",
       "\n",
       "    .dataframe tbody tr th {\n",
       "        vertical-align: top;\n",
       "    }\n",
       "\n",
       "    .dataframe thead th {\n",
       "        text-align: right;\n",
       "    }\n",
       "</style>\n",
       "<table border=\"1\" class=\"dataframe\">\n",
       "  <thead>\n",
       "    <tr style=\"text-align: right;\">\n",
       "      <th></th>\n",
       "      <th>TG</th>\n",
       "    </tr>\n",
       "    <tr>\n",
       "      <th>DATE</th>\n",
       "      <th></th>\n",
       "    </tr>\n",
       "  </thead>\n",
       "  <tbody>\n",
       "    <tr>\n",
       "      <th>1876-01-01</th>\n",
       "      <td>22</td>\n",
       "    </tr>\n",
       "    <tr>\n",
       "      <th>1876-01-03</th>\n",
       "      <td>3</td>\n",
       "    </tr>\n",
       "    <tr>\n",
       "      <th>1876-01-04</th>\n",
       "      <td>-58</td>\n",
       "    </tr>\n",
       "    <tr>\n",
       "      <th>1876-01-05</th>\n",
       "      <td>-98</td>\n",
       "    </tr>\n",
       "    <tr>\n",
       "      <th>1876-01-06</th>\n",
       "      <td>-77</td>\n",
       "    </tr>\n",
       "    <tr>\n",
       "      <th>...</th>\n",
       "      <td>...</td>\n",
       "    </tr>\n",
       "    <tr>\n",
       "      <th>1994-01-09</th>\n",
       "      <td>14</td>\n",
       "    </tr>\n",
       "    <tr>\n",
       "      <th>1994-01-10</th>\n",
       "      <td>22</td>\n",
       "    </tr>\n",
       "    <tr>\n",
       "      <th>1994-01-11</th>\n",
       "      <td>24</td>\n",
       "    </tr>\n",
       "    <tr>\n",
       "      <th>1994-01-12</th>\n",
       "      <td>62</td>\n",
       "    </tr>\n",
       "    <tr>\n",
       "      <th>1994-01-13</th>\n",
       "      <td>88</td>\n",
       "    </tr>\n",
       "  </tbody>\n",
       "</table>\n",
       "<p>42381 rows × 1 columns</p>\n",
       "</div>"
      ],
      "text/plain": [
       "            TG\n",
       "DATE          \n",
       "1876-01-01  22\n",
       "1876-01-03   3\n",
       "1876-01-04 -58\n",
       "1876-01-05 -98\n",
       "1876-01-06 -77\n",
       "...         ..\n",
       "1994-01-09  14\n",
       "1994-01-10  22\n",
       "1994-01-11  24\n",
       "1994-01-12  62\n",
       "1994-01-13  88\n",
       "\n",
       "[42381 rows x 1 columns]"
      ]
     },
     "execution_count": 187,
     "metadata": {},
     "output_type": "execute_result"
    }
   ],
   "source": [
    "df_trnnn"
   ]
  },
  {
   "cell_type": "code",
   "execution_count": 188,
   "id": "483beda1",
   "metadata": {},
   "outputs": [],
   "source": [
    "ar_model=AutoReg(df_trnnn,lags=3, old_names=False).fit()\n",
    "\n"
   ]
  },
  {
   "cell_type": "code",
   "execution_count": 191,
   "id": "b08796b9",
   "metadata": {},
   "outputs": [
    {
     "name": "stderr",
     "output_type": "stream",
     "text": [
      "<ipython-input-191-40edf308fa83>:3: SettingWithCopyWarning: \n",
      "A value is trying to be set on a copy of a slice from a DataFrame.\n",
      "Try using .loc[row_indexer,col_indexer] = value instead\n",
      "\n",
      "See the caveats in the documentation: https://pandas.pydata.org/pandas-docs/stable/user_guide/indexing.html#returning-a-view-versus-a-copy\n",
      "  df_trnnn['areg_pre']=ar_model.predict()\n"
     ]
    }
   ],
   "source": [
    "# question: where is the X input value?\n",
    "\n",
    "df_trnnn['areg_pre']=ar_model.predict()"
   ]
  },
  {
   "cell_type": "code",
   "execution_count": 192,
   "id": "92613043",
   "metadata": {},
   "outputs": [
    {
     "data": {
      "text/html": [
       "<div>\n",
       "<style scoped>\n",
       "    .dataframe tbody tr th:only-of-type {\n",
       "        vertical-align: middle;\n",
       "    }\n",
       "\n",
       "    .dataframe tbody tr th {\n",
       "        vertical-align: top;\n",
       "    }\n",
       "\n",
       "    .dataframe thead th {\n",
       "        text-align: right;\n",
       "    }\n",
       "</style>\n",
       "<table border=\"1\" class=\"dataframe\">\n",
       "  <thead>\n",
       "    <tr style=\"text-align: right;\">\n",
       "      <th></th>\n",
       "      <th>TG</th>\n",
       "      <th>areg_pre</th>\n",
       "    </tr>\n",
       "    <tr>\n",
       "      <th>DATE</th>\n",
       "      <th></th>\n",
       "      <th></th>\n",
       "    </tr>\n",
       "  </thead>\n",
       "  <tbody>\n",
       "    <tr>\n",
       "      <th>1876-01-01</th>\n",
       "      <td>22</td>\n",
       "      <td>NaN</td>\n",
       "    </tr>\n",
       "    <tr>\n",
       "      <th>1876-01-03</th>\n",
       "      <td>3</td>\n",
       "      <td>NaN</td>\n",
       "    </tr>\n",
       "    <tr>\n",
       "      <th>1876-01-04</th>\n",
       "      <td>-58</td>\n",
       "      <td>NaN</td>\n",
       "    </tr>\n",
       "    <tr>\n",
       "      <th>1876-01-05</th>\n",
       "      <td>-98</td>\n",
       "      <td>-51.418215</td>\n",
       "    </tr>\n",
       "    <tr>\n",
       "      <th>1876-01-06</th>\n",
       "      <td>-77</td>\n",
       "      <td>-82.224215</td>\n",
       "    </tr>\n",
       "    <tr>\n",
       "      <th>...</th>\n",
       "      <td>...</td>\n",
       "      <td>...</td>\n",
       "    </tr>\n",
       "    <tr>\n",
       "      <th>1994-01-09</th>\n",
       "      <td>14</td>\n",
       "      <td>37.124710</td>\n",
       "    </tr>\n",
       "    <tr>\n",
       "      <th>1994-01-10</th>\n",
       "      <td>22</td>\n",
       "      <td>18.839759</td>\n",
       "    </tr>\n",
       "    <tr>\n",
       "      <th>1994-01-11</th>\n",
       "      <td>24</td>\n",
       "      <td>28.526080</td>\n",
       "    </tr>\n",
       "    <tr>\n",
       "      <th>1994-01-12</th>\n",
       "      <td>62</td>\n",
       "      <td>25.583846</td>\n",
       "    </tr>\n",
       "    <tr>\n",
       "      <th>1994-01-13</th>\n",
       "      <td>88</td>\n",
       "      <td>64.495424</td>\n",
       "    </tr>\n",
       "  </tbody>\n",
       "</table>\n",
       "<p>42381 rows × 2 columns</p>\n",
       "</div>"
      ],
      "text/plain": [
       "            TG   areg_pre\n",
       "DATE                     \n",
       "1876-01-01  22        NaN\n",
       "1876-01-03   3        NaN\n",
       "1876-01-04 -58        NaN\n",
       "1876-01-05 -98 -51.418215\n",
       "1876-01-06 -77 -82.224215\n",
       "...         ..        ...\n",
       "1994-01-09  14  37.124710\n",
       "1994-01-10  22  18.839759\n",
       "1994-01-11  24  28.526080\n",
       "1994-01-12  62  25.583846\n",
       "1994-01-13  88  64.495424\n",
       "\n",
       "[42381 rows x 2 columns]"
      ]
     },
     "execution_count": 192,
     "metadata": {},
     "output_type": "execute_result"
    }
   ],
   "source": [
    "df_trnnn"
   ]
  },
  {
   "cell_type": "code",
   "execution_count": 193,
   "id": "0a0bc94f",
   "metadata": {},
   "outputs": [
    {
     "data": {
      "text/html": [
       "<div>\n",
       "<style scoped>\n",
       "    .dataframe tbody tr th:only-of-type {\n",
       "        vertical-align: middle;\n",
       "    }\n",
       "\n",
       "    .dataframe tbody tr th {\n",
       "        vertical-align: top;\n",
       "    }\n",
       "\n",
       "    .dataframe thead th {\n",
       "        text-align: right;\n",
       "    }\n",
       "</style>\n",
       "<table border=\"1\" class=\"dataframe\">\n",
       "  <thead>\n",
       "    <tr style=\"text-align: right;\">\n",
       "      <th></th>\n",
       "      <th>TG</th>\n",
       "      <th>areg_pre</th>\n",
       "    </tr>\n",
       "    <tr>\n",
       "      <th>DATE</th>\n",
       "      <th></th>\n",
       "      <th></th>\n",
       "    </tr>\n",
       "  </thead>\n",
       "  <tbody>\n",
       "    <tr>\n",
       "      <th>1876-01-01</th>\n",
       "      <td>22</td>\n",
       "      <td>NaN</td>\n",
       "    </tr>\n",
       "    <tr>\n",
       "      <th>1876-01-03</th>\n",
       "      <td>3</td>\n",
       "      <td>NaN</td>\n",
       "    </tr>\n",
       "    <tr>\n",
       "      <th>1876-01-04</th>\n",
       "      <td>-58</td>\n",
       "      <td>NaN</td>\n",
       "    </tr>\n",
       "    <tr>\n",
       "      <th>1876-01-05</th>\n",
       "      <td>-98</td>\n",
       "      <td>-51.418215</td>\n",
       "    </tr>\n",
       "    <tr>\n",
       "      <th>1876-01-06</th>\n",
       "      <td>-77</td>\n",
       "      <td>-82.224215</td>\n",
       "    </tr>\n",
       "    <tr>\n",
       "      <th>...</th>\n",
       "      <td>...</td>\n",
       "      <td>...</td>\n",
       "    </tr>\n",
       "    <tr>\n",
       "      <th>1994-01-09</th>\n",
       "      <td>14</td>\n",
       "      <td>37.124710</td>\n",
       "    </tr>\n",
       "    <tr>\n",
       "      <th>1994-01-10</th>\n",
       "      <td>22</td>\n",
       "      <td>18.839759</td>\n",
       "    </tr>\n",
       "    <tr>\n",
       "      <th>1994-01-11</th>\n",
       "      <td>24</td>\n",
       "      <td>28.526080</td>\n",
       "    </tr>\n",
       "    <tr>\n",
       "      <th>1994-01-12</th>\n",
       "      <td>62</td>\n",
       "      <td>25.583846</td>\n",
       "    </tr>\n",
       "    <tr>\n",
       "      <th>1994-01-13</th>\n",
       "      <td>88</td>\n",
       "      <td>64.495424</td>\n",
       "    </tr>\n",
       "  </tbody>\n",
       "</table>\n",
       "<p>42381 rows × 2 columns</p>\n",
       "</div>"
      ],
      "text/plain": [
       "            TG   areg_pre\n",
       "DATE                     \n",
       "1876-01-01  22        NaN\n",
       "1876-01-03   3        NaN\n",
       "1876-01-04 -58        NaN\n",
       "1876-01-05 -98 -51.418215\n",
       "1876-01-06 -77 -82.224215\n",
       "...         ..        ...\n",
       "1994-01-09  14  37.124710\n",
       "1994-01-10  22  18.839759\n",
       "1994-01-11  24  28.526080\n",
       "1994-01-12  62  25.583846\n",
       "1994-01-13  88  64.495424\n",
       "\n",
       "[42381 rows x 2 columns]"
      ]
     },
     "execution_count": 193,
     "metadata": {},
     "output_type": "execute_result"
    }
   ],
   "source": [
    "df_trnnn.set_index(df_tr.index)"
   ]
  },
  {
   "cell_type": "code",
   "execution_count": 194,
   "id": "b62de593",
   "metadata": {},
   "outputs": [
    {
     "name": "stderr",
     "output_type": "stream",
     "text": [
      "<ipython-input-194-592347bcd620>:1: SettingWithCopyWarning: \n",
      "A value is trying to be set on a copy of a slice from a DataFrame\n",
      "\n",
      "See the caveats in the documentation: https://pandas.pydata.org/pandas-docs/stable/user_guide/indexing.html#returning-a-view-versus-a-copy\n",
      "  df_trnnn.dropna(inplace=True)\n"
     ]
    }
   ],
   "source": [
    "df_trnnn.dropna(inplace=True)"
   ]
  },
  {
   "cell_type": "code",
   "execution_count": 195,
   "id": "e312fc32",
   "metadata": {},
   "outputs": [
    {
     "data": {
      "text/plain": [
       "0.9114065429698787"
      ]
     },
     "execution_count": 195,
     "metadata": {},
     "output_type": "execute_result"
    }
   ],
   "source": [
    "import sklearn\n",
    "from sklearn.metrics import r2_score\n",
    "sklearn.metrics.r2_score(df_trnnn['TG'], df_trnnn['areg_pre'])"
   ]
  },
  {
   "cell_type": "code",
   "execution_count": 172,
   "id": "27408459",
   "metadata": {},
   "outputs": [
    {
     "data": {
      "text/html": [
       "<div>\n",
       "<style scoped>\n",
       "    .dataframe tbody tr th:only-of-type {\n",
       "        vertical-align: middle;\n",
       "    }\n",
       "\n",
       "    .dataframe tbody tr th {\n",
       "        vertical-align: top;\n",
       "    }\n",
       "\n",
       "    .dataframe thead th {\n",
       "        text-align: right;\n",
       "    }\n",
       "</style>\n",
       "<table border=\"1\" class=\"dataframe\">\n",
       "  <thead>\n",
       "    <tr style=\"text-align: right;\">\n",
       "      <th></th>\n",
       "      <th>TG</th>\n",
       "      <th>areg_pre</th>\n",
       "    </tr>\n",
       "    <tr>\n",
       "      <th>DATE</th>\n",
       "      <th></th>\n",
       "      <th></th>\n",
       "    </tr>\n",
       "  </thead>\n",
       "  <tbody>\n",
       "    <tr>\n",
       "      <th>1876-01-06</th>\n",
       "      <td>-77</td>\n",
       "      <td>-80.589376</td>\n",
       "    </tr>\n",
       "    <tr>\n",
       "      <th>1876-01-07</th>\n",
       "      <td>-66</td>\n",
       "      <td>-58.628132</td>\n",
       "    </tr>\n",
       "    <tr>\n",
       "      <th>1876-01-08</th>\n",
       "      <td>-89</td>\n",
       "      <td>-59.758196</td>\n",
       "    </tr>\n",
       "    <tr>\n",
       "      <th>1876-01-09</th>\n",
       "      <td>-127</td>\n",
       "      <td>-86.325995</td>\n",
       "    </tr>\n",
       "    <tr>\n",
       "      <th>1876-01-10</th>\n",
       "      <td>-89</td>\n",
       "      <td>-117.029251</td>\n",
       "    </tr>\n",
       "    <tr>\n",
       "      <th>...</th>\n",
       "      <td>...</td>\n",
       "      <td>...</td>\n",
       "    </tr>\n",
       "    <tr>\n",
       "      <th>1994-01-09</th>\n",
       "      <td>14</td>\n",
       "      <td>37.372673</td>\n",
       "    </tr>\n",
       "    <tr>\n",
       "      <th>1994-01-10</th>\n",
       "      <td>22</td>\n",
       "      <td>19.184355</td>\n",
       "    </tr>\n",
       "    <tr>\n",
       "      <th>1994-01-11</th>\n",
       "      <td>24</td>\n",
       "      <td>29.505237</td>\n",
       "    </tr>\n",
       "    <tr>\n",
       "      <th>1994-01-12</th>\n",
       "      <td>62</td>\n",
       "      <td>27.097818</td>\n",
       "    </tr>\n",
       "    <tr>\n",
       "      <th>1994-01-13</th>\n",
       "      <td>88</td>\n",
       "      <td>63.069670</td>\n",
       "    </tr>\n",
       "  </tbody>\n",
       "</table>\n",
       "<p>42377 rows × 2 columns</p>\n",
       "</div>"
      ],
      "text/plain": [
       "             TG    areg_pre\n",
       "DATE                       \n",
       "1876-01-06  -77  -80.589376\n",
       "1876-01-07  -66  -58.628132\n",
       "1876-01-08  -89  -59.758196\n",
       "1876-01-09 -127  -86.325995\n",
       "1876-01-10  -89 -117.029251\n",
       "...         ...         ...\n",
       "1994-01-09   14   37.372673\n",
       "1994-01-10   22   19.184355\n",
       "1994-01-11   24   29.505237\n",
       "1994-01-12   62   27.097818\n",
       "1994-01-13   88   63.069670\n",
       "\n",
       "[42377 rows x 2 columns]"
      ]
     },
     "execution_count": 172,
     "metadata": {},
     "output_type": "execute_result"
    }
   ],
   "source": [
    "df_trnnn"
   ]
  },
  {
   "cell_type": "code",
   "execution_count": null,
   "id": "7396376d",
   "metadata": {},
   "outputs": [],
   "source": [
    "df_trnnn.drop('TG',axis=1,inplace=True)"
   ]
  },
  {
   "cell_type": "code",
   "execution_count": null,
   "id": "fc9a05ec",
   "metadata": {},
   "outputs": [],
   "source": [
    "df_tr=df_tr.join(df_trnnn)"
   ]
  },
  {
   "cell_type": "markdown",
   "id": "54c9ee15",
   "metadata": {},
   "source": [
    "question:why after join the value become NAN?"
   ]
  },
  {
   "cell_type": "code",
   "execution_count": null,
   "id": "7fa1ffbf",
   "metadata": {},
   "outputs": [],
   "source": [
    "df_tr"
   ]
  },
  {
   "cell_type": "code",
   "execution_count": null,
   "id": "3c26626c",
   "metadata": {},
   "outputs": [],
   "source": [
    "# Plot the prediction\n",
    "# df_tr[df_tr.index<'1878'][['TG']].plot()\n",
    "# question\n",
    "#plt.plot(df_trnnn['areg_pre'], label='ar_predictions')"
   ]
  },
  {
   "cell_type": "markdown",
   "id": "4ca2e2ab",
   "metadata": {},
   "source": [
    "## validate the AutoReg model on test data"
   ]
  },
  {
   "cell_type": "code",
   "execution_count": null,
   "id": "9d1860cb",
   "metadata": {},
   "outputs": [],
   "source": [
    "df_trnnn\n",
    "Xtf,df_te_n"
   ]
  },
  {
   "cell_type": "code",
   "execution_count": 176,
   "id": "f5da0663",
   "metadata": {},
   "outputs": [
    {
     "data": {
      "text/plain": [
       "<statsmodels.tsa.ar_model.AutoRegResultsWrapper at 0x7f6e6583ad60>"
      ]
     },
     "execution_count": 176,
     "metadata": {},
     "output_type": "execute_result"
    }
   ],
   "source": [
    "ar_model"
   ]
  },
  {
   "cell_type": "code",
   "execution_count": 226,
   "id": "f03460da",
   "metadata": {},
   "outputs": [],
   "source": [
    "# question how to validate in the test data?\n",
    "#df_te_n['autoreg_pre']=ar_model.predict(Xtf)"
   ]
  },
  {
   "cell_type": "code",
   "execution_count": null,
   "id": "1943e85b",
   "metadata": {},
   "outputs": [],
   "source": []
  },
  {
   "cell_type": "code",
   "execution_count": null,
   "id": "b1d13121",
   "metadata": {},
   "outputs": [],
   "source": []
  },
  {
   "cell_type": "markdown",
   "id": "a7724323",
   "metadata": {},
   "source": [
    "## Use auto_arima to determin the best combination of p, q and d"
   ]
  },
  {
   "cell_type": "code",
   "execution_count": null,
   "id": "3771f197",
   "metadata": {},
   "outputs": [],
   "source": [
    "from pmdarima.arima import auto_arima"
   ]
  },
  {
   "cell_type": "code",
   "execution_count": null,
   "id": "8d852361",
   "metadata": {},
   "outputs": [],
   "source": [
    "#auto_arima_model = auto_arima(df_tr['remainder'],start_p=0,start_q=0,max_p=6, max_q=3)"
   ]
  },
  {
   "cell_type": "code",
   "execution_count": null,
   "id": "acfd88a7",
   "metadata": {},
   "outputs": [],
   "source": [
    "#auto_arima_model"
   ]
  },
  {
   "cell_type": "code",
   "execution_count": null,
   "id": "a928347b",
   "metadata": {},
   "outputs": [],
   "source": []
  },
  {
   "cell_type": "code",
   "execution_count": null,
   "id": "cf1f025b",
   "metadata": {},
   "outputs": [],
   "source": []
  },
  {
   "cell_type": "markdown",
   "id": "50010f4c",
   "metadata": {},
   "source": [
    "We decide to choose lag=3 according to the PACF plot"
   ]
  },
  {
   "cell_type": "code",
   "execution_count": null,
   "id": "5d4e33f7",
   "metadata": {},
   "outputs": [],
   "source": [
    "#arima_model=ARIMA(df_tr['TG'],order=(3,0,0),trend='ct',exog=season_dummies_tr).fit()"
   ]
  },
  {
   "cell_type": "code",
   "execution_count": null,
   "id": "1f07bea8",
   "metadata": {},
   "outputs": [],
   "source": [
    "# plt.plot(df_tr[df_tr.index <'1877']['TG'], label='temperature')\n",
    "#question\n",
    "# #plt.plot(arima_model.predict()[arima_model.predict().index < '1877'],label='arima_predictions')\n",
    "# plt.legend()"
   ]
  },
  {
   "cell_type": "code",
   "execution_count": 217,
   "id": "77ad1f43",
   "metadata": {},
   "outputs": [],
   "source": [
    "import folium"
   ]
  },
  {
   "cell_type": "code",
   "execution_count": 225,
   "id": "15ea3370",
   "metadata": {},
   "outputs": [
    {
     "data": {
      "text/html": [
       "<div style=\"width:100%;\"><div style=\"position:relative;width:100%;height:0;padding-bottom:60%;\"><span style=\"color:#565656\">Make this Notebook Trusted to load map: File -> Trust Notebook</span><iframe src=\"about:blank\" style=\"position:absolute;width:100%;height:100%;left:0;top:0;border:none !important;\" data-html=%3C%21DOCTYPE%20html%3E%0A%3Chead%3E%20%20%20%20%0A%20%20%20%20%3Cmeta%20http-equiv%3D%22content-type%22%20content%3D%22text/html%3B%20charset%3DUTF-8%22%20/%3E%0A%20%20%20%20%0A%20%20%20%20%20%20%20%20%3Cscript%3E%0A%20%20%20%20%20%20%20%20%20%20%20%20L_NO_TOUCH%20%3D%20false%3B%0A%20%20%20%20%20%20%20%20%20%20%20%20L_DISABLE_3D%20%3D%20false%3B%0A%20%20%20%20%20%20%20%20%3C/script%3E%0A%20%20%20%20%0A%20%20%20%20%3Cstyle%3Ehtml%2C%20body%20%7Bwidth%3A%20100%25%3Bheight%3A%20100%25%3Bmargin%3A%200%3Bpadding%3A%200%3B%7D%3C/style%3E%0A%20%20%20%20%3Cstyle%3E%23map%20%7Bposition%3Aabsolute%3Btop%3A0%3Bbottom%3A0%3Bright%3A0%3Bleft%3A0%3B%7D%3C/style%3E%0A%20%20%20%20%3Cscript%20src%3D%22https%3A//cdn.jsdelivr.net/npm/leaflet%401.6.0/dist/leaflet.js%22%3E%3C/script%3E%0A%20%20%20%20%3Cscript%20src%3D%22https%3A//code.jquery.com/jquery-1.12.4.min.js%22%3E%3C/script%3E%0A%20%20%20%20%3Cscript%20src%3D%22https%3A//maxcdn.bootstrapcdn.com/bootstrap/3.2.0/js/bootstrap.min.js%22%3E%3C/script%3E%0A%20%20%20%20%3Cscript%20src%3D%22https%3A//cdnjs.cloudflare.com/ajax/libs/Leaflet.awesome-markers/2.0.2/leaflet.awesome-markers.js%22%3E%3C/script%3E%0A%20%20%20%20%3Clink%20rel%3D%22stylesheet%22%20href%3D%22https%3A//cdn.jsdelivr.net/npm/leaflet%401.6.0/dist/leaflet.css%22/%3E%0A%20%20%20%20%3Clink%20rel%3D%22stylesheet%22%20href%3D%22https%3A//maxcdn.bootstrapcdn.com/bootstrap/3.2.0/css/bootstrap.min.css%22/%3E%0A%20%20%20%20%3Clink%20rel%3D%22stylesheet%22%20href%3D%22https%3A//maxcdn.bootstrapcdn.com/bootstrap/3.2.0/css/bootstrap-theme.min.css%22/%3E%0A%20%20%20%20%3Clink%20rel%3D%22stylesheet%22%20href%3D%22https%3A//maxcdn.bootstrapcdn.com/font-awesome/4.6.3/css/font-awesome.min.css%22/%3E%0A%20%20%20%20%3Clink%20rel%3D%22stylesheet%22%20href%3D%22https%3A//cdnjs.cloudflare.com/ajax/libs/Leaflet.awesome-markers/2.0.2/leaflet.awesome-markers.css%22/%3E%0A%20%20%20%20%3Clink%20rel%3D%22stylesheet%22%20href%3D%22https%3A//cdn.jsdelivr.net/gh/python-visualization/folium/folium/templates/leaflet.awesome.rotate.min.css%22/%3E%0A%20%20%20%20%0A%20%20%20%20%20%20%20%20%20%20%20%20%3Cmeta%20name%3D%22viewport%22%20content%3D%22width%3Ddevice-width%2C%0A%20%20%20%20%20%20%20%20%20%20%20%20%20%20%20%20initial-scale%3D1.0%2C%20maximum-scale%3D1.0%2C%20user-scalable%3Dno%22%20/%3E%0A%20%20%20%20%20%20%20%20%20%20%20%20%3Cstyle%3E%0A%20%20%20%20%20%20%20%20%20%20%20%20%20%20%20%20%23map_a41b30c8e89a4a7e817dfbaae1f590b4%20%7B%0A%20%20%20%20%20%20%20%20%20%20%20%20%20%20%20%20%20%20%20%20position%3A%20relative%3B%0A%20%20%20%20%20%20%20%20%20%20%20%20%20%20%20%20%20%20%20%20width%3A%20100.0%25%3B%0A%20%20%20%20%20%20%20%20%20%20%20%20%20%20%20%20%20%20%20%20height%3A%20100.0%25%3B%0A%20%20%20%20%20%20%20%20%20%20%20%20%20%20%20%20%20%20%20%20left%3A%200.0%25%3B%0A%20%20%20%20%20%20%20%20%20%20%20%20%20%20%20%20%20%20%20%20top%3A%200.0%25%3B%0A%20%20%20%20%20%20%20%20%20%20%20%20%20%20%20%20%7D%0A%20%20%20%20%20%20%20%20%20%20%20%20%3C/style%3E%0A%20%20%20%20%20%20%20%20%0A%3C/head%3E%0A%3Cbody%3E%20%20%20%20%0A%20%20%20%20%0A%20%20%20%20%20%20%20%20%20%20%20%20%3Cdiv%20class%3D%22folium-map%22%20id%3D%22map_a41b30c8e89a4a7e817dfbaae1f590b4%22%20%3E%3C/div%3E%0A%20%20%20%20%20%20%20%20%0A%3C/body%3E%0A%3Cscript%3E%20%20%20%20%0A%20%20%20%20%0A%20%20%20%20%20%20%20%20%20%20%20%20var%20map_a41b30c8e89a4a7e817dfbaae1f590b4%20%3D%20L.map%28%0A%20%20%20%20%20%20%20%20%20%20%20%20%20%20%20%20%22map_a41b30c8e89a4a7e817dfbaae1f590b4%22%2C%0A%20%20%20%20%20%20%20%20%20%20%20%20%20%20%20%20%7B%0A%20%20%20%20%20%20%20%20%20%20%20%20%20%20%20%20%20%20%20%20center%3A%20%5B52.4532%2C%2013.3846%5D%2C%0A%20%20%20%20%20%20%20%20%20%20%20%20%20%20%20%20%20%20%20%20crs%3A%20L.CRS.EPSG3857%2C%0A%20%20%20%20%20%20%20%20%20%20%20%20%20%20%20%20%20%20%20%20zoom%3A%2012%2C%0A%20%20%20%20%20%20%20%20%20%20%20%20%20%20%20%20%20%20%20%20zoomControl%3A%20true%2C%0A%20%20%20%20%20%20%20%20%20%20%20%20%20%20%20%20%20%20%20%20preferCanvas%3A%20false%2C%0A%20%20%20%20%20%20%20%20%20%20%20%20%20%20%20%20%7D%0A%20%20%20%20%20%20%20%20%20%20%20%20%29%3B%0A%0A%20%20%20%20%20%20%20%20%20%20%20%20%0A%0A%20%20%20%20%20%20%20%20%0A%20%20%20%20%0A%20%20%20%20%20%20%20%20%20%20%20%20var%20tile_layer_1825830d8b784067ad559eb8f1625346%20%3D%20L.tileLayer%28%0A%20%20%20%20%20%20%20%20%20%20%20%20%20%20%20%20%22https%3A//%7Bs%7D.tile.openstreetmap.org/%7Bz%7D/%7Bx%7D/%7By%7D.png%22%2C%0A%20%20%20%20%20%20%20%20%20%20%20%20%20%20%20%20%7B%22attribution%22%3A%20%22Data%20by%20%5Cu0026copy%3B%20%5Cu003ca%20href%3D%5C%22http%3A//openstreetmap.org%5C%22%5Cu003eOpenStreetMap%5Cu003c/a%5Cu003e%2C%20under%20%5Cu003ca%20href%3D%5C%22http%3A//www.openstreetmap.org/copyright%5C%22%5Cu003eODbL%5Cu003c/a%5Cu003e.%22%2C%20%22detectRetina%22%3A%20false%2C%20%22maxNativeZoom%22%3A%2018%2C%20%22maxZoom%22%3A%2018%2C%20%22minZoom%22%3A%200%2C%20%22noWrap%22%3A%20false%2C%20%22opacity%22%3A%201%2C%20%22subdomains%22%3A%20%22abc%22%2C%20%22tms%22%3A%20false%7D%0A%20%20%20%20%20%20%20%20%20%20%20%20%29.addTo%28map_a41b30c8e89a4a7e817dfbaae1f590b4%29%3B%0A%20%20%20%20%20%20%20%20%0A%20%20%20%20%0A%20%20%20%20%20%20%20%20%20%20%20%20var%20marker_0e7a3f67f5c24365aff0aed1cf47a700%20%3D%20L.marker%28%0A%20%20%20%20%20%20%20%20%20%20%20%20%20%20%20%20%5B52.4532%2C%2013.3846%5D%2C%0A%20%20%20%20%20%20%20%20%20%20%20%20%20%20%20%20%7B%7D%0A%20%20%20%20%20%20%20%20%20%20%20%20%29.addTo%28map_a41b30c8e89a4a7e817dfbaae1f590b4%29%3B%0A%20%20%20%20%20%20%20%20%0A%20%20%20%20%0A%20%20%20%20%20%20%20%20var%20popup_3841d250a9034b588229a13c1d489776%20%3D%20L.popup%28%7B%22maxWidth%22%3A%20%22100%25%22%7D%29%3B%0A%0A%20%20%20%20%20%20%20%20%0A%20%20%20%20%20%20%20%20%20%20%20%20var%20html_d157a1366d6f41e28fb48f7431aa6dcb%20%3D%20%24%28%60%3Cdiv%20id%3D%22html_d157a1366d6f41e28fb48f7431aa6dcb%22%20style%3D%22width%3A%20100.0%25%3B%20height%3A%20100.0%25%3B%22%3ETSA-Temperature-Forecasting%20for%20Tempelhof%20Berlin%3C/div%3E%60%29%5B0%5D%3B%0A%20%20%20%20%20%20%20%20%20%20%20%20popup_3841d250a9034b588229a13c1d489776.setContent%28html_d157a1366d6f41e28fb48f7431aa6dcb%29%3B%0A%20%20%20%20%20%20%20%20%0A%0A%20%20%20%20%20%20%20%20marker_0e7a3f67f5c24365aff0aed1cf47a700.bindPopup%28popup_3841d250a9034b588229a13c1d489776%29%0A%20%20%20%20%20%20%20%20%3B%0A%0A%20%20%20%20%20%20%20%20%0A%20%20%20%20%0A%20%20%20%20%0A%20%20%20%20%20%20%20%20%20%20%20%20%20%20%20%20function%20newMarker%28e%29%7B%0A%20%20%20%20%20%20%20%20%20%20%20%20%20%20%20%20%20%20%20%20var%20new_mark%20%3D%20L.marker%28%29.setLatLng%28e.latlng%29.addTo%28map_a41b30c8e89a4a7e817dfbaae1f590b4%29%3B%0A%20%20%20%20%20%20%20%20%20%20%20%20%20%20%20%20%20%20%20%20new_mark.dragging.enable%28%29%3B%0A%20%20%20%20%20%20%20%20%20%20%20%20%20%20%20%20%20%20%20%20new_mark.on%28%27dblclick%27%2C%20function%28e%29%7B%20map_a41b30c8e89a4a7e817dfbaae1f590b4.removeLayer%28e.target%29%7D%29%0A%20%20%20%20%20%20%20%20%20%20%20%20%20%20%20%20%20%20%20%20var%20lat%20%3D%20e.latlng.lat.toFixed%284%29%2C%0A%20%20%20%20%20%20%20%20%20%20%20%20%20%20%20%20%20%20%20%20%20%20%20lng%20%3D%20e.latlng.lng.toFixed%284%29%3B%0A%20%20%20%20%20%20%20%20%20%20%20%20%20%20%20%20%20%20%20%20new_mark.bindPopup%28%22Waypoint%22%29%3B%0A%20%20%20%20%20%20%20%20%20%20%20%20%20%20%20%20%20%20%20%20%7D%3B%0A%20%20%20%20%20%20%20%20%20%20%20%20%20%20%20%20map_a41b30c8e89a4a7e817dfbaae1f590b4.on%28%27click%27%2C%20newMarker%29%3B%0A%20%20%20%20%20%20%20%20%20%20%20%20%0A%3C/script%3E onload=\"this.contentDocument.open();this.contentDocument.write(    decodeURIComponent(this.getAttribute('data-html')));this.contentDocument.close();\" allowfullscreen webkitallowfullscreen mozallowfullscreen></iframe></div></div>"
      ],
      "text/plain": [
       "<folium.folium.Map at 0x7f6e640ca9a0>"
      ]
     },
     "execution_count": 225,
     "metadata": {},
     "output_type": "execute_result"
    }
   ],
   "source": [
    "m = folium.Map(\n",
    "    location=[52.4532,13.3846],\n",
    "   # tiles='Stamen Terrain',\n",
    "    zoom_start=12\n",
    ")\n",
    "\n",
    "folium.Marker(\n",
    "    [52.4532,13.3846],\n",
    "    popup='TSA-Temperature-Forecasting for Tempelhof Berlin'\n",
    ").add_to(m)\n",
    "\n",
    "m.add_child(folium.ClickForMarker(popup='Waypoint'))\n",
    "\n",
    "m\n",
    "\n"
   ]
  },
  {
   "cell_type": "code",
   "execution_count": 223,
   "id": "722e90bc",
   "metadata": {},
   "outputs": [
    {
     "data": {
      "text/html": [
       "<div style=\"width:100%;\"><div style=\"position:relative;width:100%;height:0;padding-bottom:60%;\"><span style=\"color:#565656\">Make this Notebook Trusted to load map: File -> Trust Notebook</span><iframe src=\"about:blank\" style=\"position:absolute;width:100%;height:100%;left:0;top:0;border:none !important;\" data-html=%3C%21DOCTYPE%20html%3E%0A%3Chead%3E%20%20%20%20%0A%20%20%20%20%3Cmeta%20http-equiv%3D%22content-type%22%20content%3D%22text/html%3B%20charset%3DUTF-8%22%20/%3E%0A%20%20%20%20%0A%20%20%20%20%20%20%20%20%3Cscript%3E%0A%20%20%20%20%20%20%20%20%20%20%20%20L_NO_TOUCH%20%3D%20false%3B%0A%20%20%20%20%20%20%20%20%20%20%20%20L_DISABLE_3D%20%3D%20false%3B%0A%20%20%20%20%20%20%20%20%3C/script%3E%0A%20%20%20%20%0A%20%20%20%20%3Cstyle%3Ehtml%2C%20body%20%7Bwidth%3A%20100%25%3Bheight%3A%20100%25%3Bmargin%3A%200%3Bpadding%3A%200%3B%7D%3C/style%3E%0A%20%20%20%20%3Cstyle%3E%23map%20%7Bposition%3Aabsolute%3Btop%3A0%3Bbottom%3A0%3Bright%3A0%3Bleft%3A0%3B%7D%3C/style%3E%0A%20%20%20%20%3Cscript%20src%3D%22https%3A//cdn.jsdelivr.net/npm/leaflet%401.6.0/dist/leaflet.js%22%3E%3C/script%3E%0A%20%20%20%20%3Cscript%20src%3D%22https%3A//code.jquery.com/jquery-1.12.4.min.js%22%3E%3C/script%3E%0A%20%20%20%20%3Cscript%20src%3D%22https%3A//maxcdn.bootstrapcdn.com/bootstrap/3.2.0/js/bootstrap.min.js%22%3E%3C/script%3E%0A%20%20%20%20%3Cscript%20src%3D%22https%3A//cdnjs.cloudflare.com/ajax/libs/Leaflet.awesome-markers/2.0.2/leaflet.awesome-markers.js%22%3E%3C/script%3E%0A%20%20%20%20%3Clink%20rel%3D%22stylesheet%22%20href%3D%22https%3A//cdn.jsdelivr.net/npm/leaflet%401.6.0/dist/leaflet.css%22/%3E%0A%20%20%20%20%3Clink%20rel%3D%22stylesheet%22%20href%3D%22https%3A//maxcdn.bootstrapcdn.com/bootstrap/3.2.0/css/bootstrap.min.css%22/%3E%0A%20%20%20%20%3Clink%20rel%3D%22stylesheet%22%20href%3D%22https%3A//maxcdn.bootstrapcdn.com/bootstrap/3.2.0/css/bootstrap-theme.min.css%22/%3E%0A%20%20%20%20%3Clink%20rel%3D%22stylesheet%22%20href%3D%22https%3A//maxcdn.bootstrapcdn.com/font-awesome/4.6.3/css/font-awesome.min.css%22/%3E%0A%20%20%20%20%3Clink%20rel%3D%22stylesheet%22%20href%3D%22https%3A//cdnjs.cloudflare.com/ajax/libs/Leaflet.awesome-markers/2.0.2/leaflet.awesome-markers.css%22/%3E%0A%20%20%20%20%3Clink%20rel%3D%22stylesheet%22%20href%3D%22https%3A//cdn.jsdelivr.net/gh/python-visualization/folium/folium/templates/leaflet.awesome.rotate.min.css%22/%3E%0A%20%20%20%20%0A%20%20%20%20%20%20%20%20%20%20%20%20%3Cmeta%20name%3D%22viewport%22%20content%3D%22width%3Ddevice-width%2C%0A%20%20%20%20%20%20%20%20%20%20%20%20%20%20%20%20initial-scale%3D1.0%2C%20maximum-scale%3D1.0%2C%20user-scalable%3Dno%22%20/%3E%0A%20%20%20%20%20%20%20%20%20%20%20%20%3Cstyle%3E%0A%20%20%20%20%20%20%20%20%20%20%20%20%20%20%20%20%23map_239a44112fb44fc2bfa8e961813cd5c9%20%7B%0A%20%20%20%20%20%20%20%20%20%20%20%20%20%20%20%20%20%20%20%20position%3A%20relative%3B%0A%20%20%20%20%20%20%20%20%20%20%20%20%20%20%20%20%20%20%20%20width%3A%20100.0%25%3B%0A%20%20%20%20%20%20%20%20%20%20%20%20%20%20%20%20%20%20%20%20height%3A%20100.0%25%3B%0A%20%20%20%20%20%20%20%20%20%20%20%20%20%20%20%20%20%20%20%20left%3A%200.0%25%3B%0A%20%20%20%20%20%20%20%20%20%20%20%20%20%20%20%20%20%20%20%20top%3A%200.0%25%3B%0A%20%20%20%20%20%20%20%20%20%20%20%20%20%20%20%20%7D%0A%20%20%20%20%20%20%20%20%20%20%20%20%3C/style%3E%0A%20%20%20%20%20%20%20%20%0A%3C/head%3E%0A%3Cbody%3E%20%20%20%20%0A%20%20%20%20%0A%20%20%20%20%20%20%20%20%20%20%20%20%3Cdiv%20class%3D%22folium-map%22%20id%3D%22map_239a44112fb44fc2bfa8e961813cd5c9%22%20%3E%3C/div%3E%0A%20%20%20%20%20%20%20%20%0A%3C/body%3E%0A%3Cscript%3E%20%20%20%20%0A%20%20%20%20%0A%20%20%20%20%20%20%20%20%20%20%20%20var%20map_239a44112fb44fc2bfa8e961813cd5c9%20%3D%20L.map%28%0A%20%20%20%20%20%20%20%20%20%20%20%20%20%20%20%20%22map_239a44112fb44fc2bfa8e961813cd5c9%22%2C%0A%20%20%20%20%20%20%20%20%20%20%20%20%20%20%20%20%7B%0A%20%20%20%20%20%20%20%20%20%20%20%20%20%20%20%20%20%20%20%20center%3A%20%5B52.4532%2C%2013.3846%5D%2C%0A%20%20%20%20%20%20%20%20%20%20%20%20%20%20%20%20%20%20%20%20crs%3A%20L.CRS.EPSG3857%2C%0A%20%20%20%20%20%20%20%20%20%20%20%20%20%20%20%20%20%20%20%20zoom%3A%2013%2C%0A%20%20%20%20%20%20%20%20%20%20%20%20%20%20%20%20%20%20%20%20zoomControl%3A%20true%2C%0A%20%20%20%20%20%20%20%20%20%20%20%20%20%20%20%20%20%20%20%20preferCanvas%3A%20false%2C%0A%20%20%20%20%20%20%20%20%20%20%20%20%20%20%20%20%7D%0A%20%20%20%20%20%20%20%20%20%20%20%20%29%3B%0A%0A%20%20%20%20%20%20%20%20%20%20%20%20%0A%0A%20%20%20%20%20%20%20%20%0A%20%20%20%20%0A%20%20%20%20%20%20%20%20%20%20%20%20var%20tile_layer_ba1438a36b9c40c1bc101c24daa66576%20%3D%20L.tileLayer%28%0A%20%20%20%20%20%20%20%20%20%20%20%20%20%20%20%20%22https%3A//%7Bs%7D.tile.openstreetmap.org/%7Bz%7D/%7Bx%7D/%7By%7D.png%22%2C%0A%20%20%20%20%20%20%20%20%20%20%20%20%20%20%20%20%7B%22attribution%22%3A%20%22Data%20by%20%5Cu0026copy%3B%20%5Cu003ca%20href%3D%5C%22http%3A//openstreetmap.org%5C%22%5Cu003eOpenStreetMap%5Cu003c/a%5Cu003e%2C%20under%20%5Cu003ca%20href%3D%5C%22http%3A//www.openstreetmap.org/copyright%5C%22%5Cu003eODbL%5Cu003c/a%5Cu003e.%22%2C%20%22detectRetina%22%3A%20false%2C%20%22maxNativeZoom%22%3A%2018%2C%20%22maxZoom%22%3A%2018%2C%20%22minZoom%22%3A%200%2C%20%22noWrap%22%3A%20false%2C%20%22opacity%22%3A%201%2C%20%22subdomains%22%3A%20%22abc%22%2C%20%22tms%22%3A%20false%7D%0A%20%20%20%20%20%20%20%20%20%20%20%20%29.addTo%28map_239a44112fb44fc2bfa8e961813cd5c9%29%3B%0A%20%20%20%20%20%20%20%20%0A%20%20%20%20%0A%20%20%20%20%20%20%20%20%20%20%20%20%20%20%20%20var%20lat_lng_popup_16a275a9c5e74cb5973f8f6d363056ec%20%3D%20L.popup%28%29%3B%0A%20%20%20%20%20%20%20%20%20%20%20%20%20%20%20%20function%20latLngPop%28e%29%20%7B%0A%20%20%20%20%20%20%20%20%20%20%20%20%20%20%20%20%20%20%20%20lat_lng_popup_16a275a9c5e74cb5973f8f6d363056ec%0A%20%20%20%20%20%20%20%20%20%20%20%20%20%20%20%20%20%20%20%20%20%20%20%20.setLatLng%28e.latlng%29%0A%20%20%20%20%20%20%20%20%20%20%20%20%20%20%20%20%20%20%20%20%20%20%20%20.setContent%28%22Latitude%3A%20%22%20%2B%20e.latlng.lat.toFixed%284%29%20%2B%0A%20%20%20%20%20%20%20%20%20%20%20%20%20%20%20%20%20%20%20%20%20%20%20%20%20%20%20%20%20%20%20%20%20%20%20%20%22%3Cbr%3ELongitude%3A%20%22%20%2B%20e.latlng.lng.toFixed%284%29%29%0A%20%20%20%20%20%20%20%20%20%20%20%20%20%20%20%20%20%20%20%20%20%20%20%20.openOn%28map_239a44112fb44fc2bfa8e961813cd5c9%29%3B%0A%20%20%20%20%20%20%20%20%20%20%20%20%20%20%20%20%20%20%20%20%7D%0A%20%20%20%20%20%20%20%20%20%20%20%20%20%20%20%20map_239a44112fb44fc2bfa8e961813cd5c9.on%28%27click%27%2C%20latLngPop%29%3B%0A%20%20%20%20%20%20%20%20%20%20%20%20%0A%3C/script%3E onload=\"this.contentDocument.open();this.contentDocument.write(    decodeURIComponent(this.getAttribute('data-html')));this.contentDocument.close();\" allowfullscreen webkitallowfullscreen mozallowfullscreen></iframe></div></div>"
      ],
      "text/plain": [
       "<folium.folium.Map at 0x7f6e640cad60>"
      ]
     },
     "execution_count": 223,
     "metadata": {},
     "output_type": "execute_result"
    }
   ],
   "source": [
    "m = folium.Map(location=[52.4532,13.3846],zoom_start=13)\n",
    "#tiles='Stamen Terrain'\n",
    "\n",
    "m.add_child(folium.LatLngPopup())\n",
    "\n",
    "m"
   ]
  },
  {
   "cell_type": "code",
   "execution_count": 220,
   "id": "fcd2ce0a",
   "metadata": {},
   "outputs": [
    {
     "data": {
      "text/plain": [
       "[[40.049423852531206, 116.45022170141533, 1.0582268081023976],\n",
       " [40.10719678116264, 116.58303088791645, 0.9578841261551936],\n",
       " [40.06978374429488, 116.53003820968655, 1.0998091055942496]]"
      ]
     },
     "execution_count": 220,
     "metadata": {},
     "output_type": "execute_result"
    }
   ],
   "source": [
    "data = (\n",
    "    np.random.normal(size=(100, 3)) *\n",
    "    np.array([[0.1, 0.1, 0.1]]) +\n",
    "    np.array([[40, 116.5, 1]])\n",
    ").tolist()\n",
    "data[:3]"
   ]
  },
  {
   "cell_type": "code",
   "execution_count": 221,
   "id": "83274afd",
   "metadata": {},
   "outputs": [],
   "source": [
    "#import geopandas as gpd\n",
    "import pandas as pd\n",
    "import folium, branca\n",
    "\n",
    "#"
   ]
  }
 ],
 "metadata": {
  "kernelspec": {
   "display_name": "Python 3",
   "language": "python",
   "name": "python3"
  },
  "language_info": {
   "codemirror_mode": {
    "name": "ipython",
    "version": 3
   },
   "file_extension": ".py",
   "mimetype": "text/x-python",
   "name": "python",
   "nbconvert_exporter": "python",
   "pygments_lexer": "ipython3",
   "version": "3.8.8"
  }
 },
 "nbformat": 4,
 "nbformat_minor": 5
}
